{
 "cells": [
  {
   "cell_type": "code",
   "execution_count": 1,
   "id": "0b156492",
   "metadata": {},
   "outputs": [],
   "source": [
    "import pandas as pd\n",
    "import datetime\n",
    "import warnings\n",
    "warnings.filterwarnings(\"ignore\")\n",
    "from sqlalchemy import create_engine"
   ]
  },
  {
   "cell_type": "markdown",
   "id": "c791e132",
   "metadata": {},
   "source": [
    "# Data Extract"
   ]
  },
  {
   "cell_type": "markdown",
   "id": "0c9abfe0",
   "metadata": {},
   "source": [
    "### Import CSV files from resource folder"
   ]
  },
  {
   "cell_type": "code",
   "execution_count": 2,
   "id": "3d6c9ec3",
   "metadata": {},
   "outputs": [
    {
     "data": {
      "text/html": [
       "<div>\n",
       "<style scoped>\n",
       "    .dataframe tbody tr th:only-of-type {\n",
       "        vertical-align: middle;\n",
       "    }\n",
       "\n",
       "    .dataframe tbody tr th {\n",
       "        vertical-align: top;\n",
       "    }\n",
       "\n",
       "    .dataframe thead th {\n",
       "        text-align: right;\n",
       "    }\n",
       "</style>\n",
       "<table border=\"1\" class=\"dataframe\">\n",
       "  <thead>\n",
       "    <tr style=\"text-align: right;\">\n",
       "      <th></th>\n",
       "      <th>show_id</th>\n",
       "      <th>type</th>\n",
       "      <th>title</th>\n",
       "      <th>director</th>\n",
       "      <th>cast</th>\n",
       "      <th>country</th>\n",
       "      <th>date_added</th>\n",
       "      <th>release_year</th>\n",
       "      <th>rating</th>\n",
       "      <th>duration</th>\n",
       "      <th>listed_in</th>\n",
       "      <th>description</th>\n",
       "    </tr>\n",
       "  </thead>\n",
       "  <tbody>\n",
       "    <tr>\n",
       "      <th>0</th>\n",
       "      <td>s1</td>\n",
       "      <td>TV Show</td>\n",
       "      <td>3%</td>\n",
       "      <td>NaN</td>\n",
       "      <td>João Miguel, Bianca Comparato, Michel Gomes, R...</td>\n",
       "      <td>Brazil</td>\n",
       "      <td>August 14, 2020</td>\n",
       "      <td>2020</td>\n",
       "      <td>TV-MA</td>\n",
       "      <td>4 Seasons</td>\n",
       "      <td>International TV Shows, TV Dramas, TV Sci-Fi &amp;...</td>\n",
       "      <td>In a future where the elite inhabit an island ...</td>\n",
       "    </tr>\n",
       "    <tr>\n",
       "      <th>1</th>\n",
       "      <td>s2</td>\n",
       "      <td>Movie</td>\n",
       "      <td>7:19</td>\n",
       "      <td>Jorge Michel Grau</td>\n",
       "      <td>Demián Bichir, Héctor Bonilla, Oscar Serrano, ...</td>\n",
       "      <td>Mexico</td>\n",
       "      <td>December 23, 2016</td>\n",
       "      <td>2016</td>\n",
       "      <td>TV-MA</td>\n",
       "      <td>93 min</td>\n",
       "      <td>Dramas, International Movies</td>\n",
       "      <td>After a devastating earthquake hits Mexico Cit...</td>\n",
       "    </tr>\n",
       "    <tr>\n",
       "      <th>2</th>\n",
       "      <td>s3</td>\n",
       "      <td>Movie</td>\n",
       "      <td>23:59</td>\n",
       "      <td>Gilbert Chan</td>\n",
       "      <td>Tedd Chan, Stella Chung, Henley Hii, Lawrence ...</td>\n",
       "      <td>Singapore</td>\n",
       "      <td>December 20, 2018</td>\n",
       "      <td>2011</td>\n",
       "      <td>R</td>\n",
       "      <td>78 min</td>\n",
       "      <td>Horror Movies, International Movies</td>\n",
       "      <td>When an army recruit is found dead, his fellow...</td>\n",
       "    </tr>\n",
       "    <tr>\n",
       "      <th>3</th>\n",
       "      <td>s4</td>\n",
       "      <td>Movie</td>\n",
       "      <td>9</td>\n",
       "      <td>Shane Acker</td>\n",
       "      <td>Elijah Wood, John C. Reilly, Jennifer Connelly...</td>\n",
       "      <td>United States</td>\n",
       "      <td>November 16, 2017</td>\n",
       "      <td>2009</td>\n",
       "      <td>PG-13</td>\n",
       "      <td>80 min</td>\n",
       "      <td>Action &amp; Adventure, Independent Movies, Sci-Fi...</td>\n",
       "      <td>In a postapocalyptic world, rag-doll robots hi...</td>\n",
       "    </tr>\n",
       "    <tr>\n",
       "      <th>4</th>\n",
       "      <td>s5</td>\n",
       "      <td>Movie</td>\n",
       "      <td>21</td>\n",
       "      <td>Robert Luketic</td>\n",
       "      <td>Jim Sturgess, Kevin Spacey, Kate Bosworth, Aar...</td>\n",
       "      <td>United States</td>\n",
       "      <td>January 1, 2020</td>\n",
       "      <td>2008</td>\n",
       "      <td>PG-13</td>\n",
       "      <td>123 min</td>\n",
       "      <td>Dramas</td>\n",
       "      <td>A brilliant group of students become card-coun...</td>\n",
       "    </tr>\n",
       "  </tbody>\n",
       "</table>\n",
       "</div>"
      ],
      "text/plain": [
       "  show_id     type  title           director  \\\n",
       "0      s1  TV Show     3%                NaN   \n",
       "1      s2    Movie   7:19  Jorge Michel Grau   \n",
       "2      s3    Movie  23:59       Gilbert Chan   \n",
       "3      s4    Movie      9        Shane Acker   \n",
       "4      s5    Movie     21     Robert Luketic   \n",
       "\n",
       "                                                cast        country  \\\n",
       "0  João Miguel, Bianca Comparato, Michel Gomes, R...         Brazil   \n",
       "1  Demián Bichir, Héctor Bonilla, Oscar Serrano, ...         Mexico   \n",
       "2  Tedd Chan, Stella Chung, Henley Hii, Lawrence ...      Singapore   \n",
       "3  Elijah Wood, John C. Reilly, Jennifer Connelly...  United States   \n",
       "4  Jim Sturgess, Kevin Spacey, Kate Bosworth, Aar...  United States   \n",
       "\n",
       "          date_added  release_year rating   duration  \\\n",
       "0    August 14, 2020          2020  TV-MA  4 Seasons   \n",
       "1  December 23, 2016          2016  TV-MA     93 min   \n",
       "2  December 20, 2018          2011      R     78 min   \n",
       "3  November 16, 2017          2009  PG-13     80 min   \n",
       "4    January 1, 2020          2008  PG-13    123 min   \n",
       "\n",
       "                                           listed_in  \\\n",
       "0  International TV Shows, TV Dramas, TV Sci-Fi &...   \n",
       "1                       Dramas, International Movies   \n",
       "2                Horror Movies, International Movies   \n",
       "3  Action & Adventure, Independent Movies, Sci-Fi...   \n",
       "4                                             Dramas   \n",
       "\n",
       "                                         description  \n",
       "0  In a future where the elite inhabit an island ...  \n",
       "1  After a devastating earthquake hits Mexico Cit...  \n",
       "2  When an army recruit is found dead, his fellow...  \n",
       "3  In a postapocalyptic world, rag-doll robots hi...  \n",
       "4  A brilliant group of students become card-coun...  "
      ]
     },
     "execution_count": 2,
     "metadata": {},
     "output_type": "execute_result"
    }
   ],
   "source": [
    "netflix_all = pd.read_csv('Resources/netflix_titles.csv')\n",
    "netflix_all.head()"
   ]
  },
  {
   "cell_type": "code",
   "execution_count": 3,
   "id": "7582ac42",
   "metadata": {},
   "outputs": [
    {
     "data": {
      "text/plain": [
       "(7787, 12)"
      ]
     },
     "execution_count": 3,
     "metadata": {},
     "output_type": "execute_result"
    }
   ],
   "source": [
    "netflix_all.shape"
   ]
  },
  {
   "cell_type": "code",
   "execution_count": 4,
   "id": "815c2c1c",
   "metadata": {},
   "outputs": [
    {
     "data": {
      "text/html": [
       "<div>\n",
       "<style scoped>\n",
       "    .dataframe tbody tr th:only-of-type {\n",
       "        vertical-align: middle;\n",
       "    }\n",
       "\n",
       "    .dataframe tbody tr th {\n",
       "        vertical-align: top;\n",
       "    }\n",
       "\n",
       "    .dataframe thead th {\n",
       "        text-align: right;\n",
       "    }\n",
       "</style>\n",
       "<table border=\"1\" class=\"dataframe\">\n",
       "  <thead>\n",
       "    <tr style=\"text-align: right;\">\n",
       "      <th></th>\n",
       "      <th>rotten_tomatoes_link</th>\n",
       "      <th>movie_title</th>\n",
       "      <th>movie_info</th>\n",
       "      <th>critics_consensus</th>\n",
       "      <th>content_rating</th>\n",
       "      <th>genres</th>\n",
       "      <th>directors</th>\n",
       "      <th>authors</th>\n",
       "      <th>actors</th>\n",
       "      <th>original_release_date</th>\n",
       "      <th>...</th>\n",
       "      <th>production_company</th>\n",
       "      <th>tomatometer_status</th>\n",
       "      <th>tomatometer_rating</th>\n",
       "      <th>tomatometer_count</th>\n",
       "      <th>audience_status</th>\n",
       "      <th>audience_rating</th>\n",
       "      <th>audience_count</th>\n",
       "      <th>tomatometer_top_critics_count</th>\n",
       "      <th>tomatometer_fresh_critics_count</th>\n",
       "      <th>tomatometer_rotten_critics_count</th>\n",
       "    </tr>\n",
       "  </thead>\n",
       "  <tbody>\n",
       "    <tr>\n",
       "      <th>0</th>\n",
       "      <td>m/0814255</td>\n",
       "      <td>Percy Jackson &amp; the Olympians: The Lightning T...</td>\n",
       "      <td>Always trouble-prone, the life of teenager Per...</td>\n",
       "      <td>Though it may seem like just another Harry Pot...</td>\n",
       "      <td>PG</td>\n",
       "      <td>Action &amp; Adventure, Comedy, Drama, Science Fic...</td>\n",
       "      <td>Chris Columbus</td>\n",
       "      <td>Craig Titley, Chris Columbus, Rick Riordan</td>\n",
       "      <td>Logan Lerman, Brandon T. Jackson, Alexandra Da...</td>\n",
       "      <td>2010-02-12</td>\n",
       "      <td>...</td>\n",
       "      <td>20th Century Fox</td>\n",
       "      <td>Rotten</td>\n",
       "      <td>49.0</td>\n",
       "      <td>149.0</td>\n",
       "      <td>Spilled</td>\n",
       "      <td>53.0</td>\n",
       "      <td>254421.0</td>\n",
       "      <td>43</td>\n",
       "      <td>73</td>\n",
       "      <td>76</td>\n",
       "    </tr>\n",
       "    <tr>\n",
       "      <th>1</th>\n",
       "      <td>m/0878835</td>\n",
       "      <td>Please Give</td>\n",
       "      <td>Kate (Catherine Keener) and her husband Alex (...</td>\n",
       "      <td>Nicole Holofcener's newest might seem slight i...</td>\n",
       "      <td>R</td>\n",
       "      <td>Comedy</td>\n",
       "      <td>Nicole Holofcener</td>\n",
       "      <td>Nicole Holofcener</td>\n",
       "      <td>Catherine Keener, Amanda Peet, Oliver Platt, R...</td>\n",
       "      <td>2010-04-30</td>\n",
       "      <td>...</td>\n",
       "      <td>Sony Pictures Classics</td>\n",
       "      <td>Certified-Fresh</td>\n",
       "      <td>87.0</td>\n",
       "      <td>142.0</td>\n",
       "      <td>Upright</td>\n",
       "      <td>64.0</td>\n",
       "      <td>11574.0</td>\n",
       "      <td>44</td>\n",
       "      <td>123</td>\n",
       "      <td>19</td>\n",
       "    </tr>\n",
       "  </tbody>\n",
       "</table>\n",
       "<p>2 rows × 22 columns</p>\n",
       "</div>"
      ],
      "text/plain": [
       "  rotten_tomatoes_link                                        movie_title  \\\n",
       "0            m/0814255  Percy Jackson & the Olympians: The Lightning T...   \n",
       "1            m/0878835                                        Please Give   \n",
       "\n",
       "                                          movie_info  \\\n",
       "0  Always trouble-prone, the life of teenager Per...   \n",
       "1  Kate (Catherine Keener) and her husband Alex (...   \n",
       "\n",
       "                                   critics_consensus content_rating  \\\n",
       "0  Though it may seem like just another Harry Pot...             PG   \n",
       "1  Nicole Holofcener's newest might seem slight i...              R   \n",
       "\n",
       "                                              genres          directors  \\\n",
       "0  Action & Adventure, Comedy, Drama, Science Fic...     Chris Columbus   \n",
       "1                                             Comedy  Nicole Holofcener   \n",
       "\n",
       "                                      authors  \\\n",
       "0  Craig Titley, Chris Columbus, Rick Riordan   \n",
       "1                           Nicole Holofcener   \n",
       "\n",
       "                                              actors original_release_date  \\\n",
       "0  Logan Lerman, Brandon T. Jackson, Alexandra Da...            2010-02-12   \n",
       "1  Catherine Keener, Amanda Peet, Oliver Platt, R...            2010-04-30   \n",
       "\n",
       "   ...      production_company  tomatometer_status tomatometer_rating  \\\n",
       "0  ...        20th Century Fox              Rotten               49.0   \n",
       "1  ...  Sony Pictures Classics     Certified-Fresh               87.0   \n",
       "\n",
       "  tomatometer_count  audience_status  audience_rating audience_count  \\\n",
       "0             149.0          Spilled             53.0       254421.0   \n",
       "1             142.0          Upright             64.0        11574.0   \n",
       "\n",
       "   tomatometer_top_critics_count  tomatometer_fresh_critics_count  \\\n",
       "0                             43                               73   \n",
       "1                             44                              123   \n",
       "\n",
       "   tomatometer_rotten_critics_count  \n",
       "0                                76  \n",
       "1                                19  \n",
       "\n",
       "[2 rows x 22 columns]"
      ]
     },
     "execution_count": 4,
     "metadata": {},
     "output_type": "execute_result"
    }
   ],
   "source": [
    "rotten_tomatoes_movies = pd.read_csv('Resources/rotten_tomatoes_movies.csv')\n",
    "rotten_tomatoes_movies.head(2)"
   ]
  },
  {
   "cell_type": "code",
   "execution_count": 5,
   "id": "632d2d9c",
   "metadata": {},
   "outputs": [],
   "source": [
    "csv_file = \"Resources/IMDb ratings.csv\""
   ]
  },
  {
   "cell_type": "code",
   "execution_count": 6,
   "id": "4c103786",
   "metadata": {},
   "outputs": [],
   "source": [
    "ratings_data_df = pd.read_csv(csv_file)"
   ]
  },
  {
   "cell_type": "code",
   "execution_count": 7,
   "id": "941c183f",
   "metadata": {},
   "outputs": [
    {
     "data": {
      "text/html": [
       "<div>\n",
       "<style scoped>\n",
       "    .dataframe tbody tr th:only-of-type {\n",
       "        vertical-align: middle;\n",
       "    }\n",
       "\n",
       "    .dataframe tbody tr th {\n",
       "        vertical-align: top;\n",
       "    }\n",
       "\n",
       "    .dataframe thead th {\n",
       "        text-align: right;\n",
       "    }\n",
       "</style>\n",
       "<table border=\"1\" class=\"dataframe\">\n",
       "  <thead>\n",
       "    <tr style=\"text-align: right;\">\n",
       "      <th></th>\n",
       "      <th>imdb_title_id</th>\n",
       "      <th>weighted_average_vote</th>\n",
       "      <th>total_votes</th>\n",
       "      <th>mean_vote</th>\n",
       "      <th>median_vote</th>\n",
       "      <th>votes_10</th>\n",
       "      <th>votes_9</th>\n",
       "      <th>votes_8</th>\n",
       "      <th>votes_7</th>\n",
       "      <th>votes_6</th>\n",
       "      <th>...</th>\n",
       "      <th>females_30age_avg_vote</th>\n",
       "      <th>females_30age_votes</th>\n",
       "      <th>females_45age_avg_vote</th>\n",
       "      <th>females_45age_votes</th>\n",
       "      <th>top1000_voters_rating</th>\n",
       "      <th>top1000_voters_votes</th>\n",
       "      <th>us_voters_rating</th>\n",
       "      <th>us_voters_votes</th>\n",
       "      <th>non_us_voters_rating</th>\n",
       "      <th>non_us_voters_votes</th>\n",
       "    </tr>\n",
       "  </thead>\n",
       "  <tbody>\n",
       "    <tr>\n",
       "      <th>0</th>\n",
       "      <td>tt0000009</td>\n",
       "      <td>5.9</td>\n",
       "      <td>154</td>\n",
       "      <td>5.9</td>\n",
       "      <td>6.0</td>\n",
       "      <td>12</td>\n",
       "      <td>4</td>\n",
       "      <td>10</td>\n",
       "      <td>43</td>\n",
       "      <td>28</td>\n",
       "      <td>...</td>\n",
       "      <td>5.7</td>\n",
       "      <td>13.0</td>\n",
       "      <td>4.5</td>\n",
       "      <td>4.0</td>\n",
       "      <td>5.7</td>\n",
       "      <td>34.0</td>\n",
       "      <td>6.4</td>\n",
       "      <td>51.0</td>\n",
       "      <td>6.0</td>\n",
       "      <td>70.0</td>\n",
       "    </tr>\n",
       "    <tr>\n",
       "      <th>1</th>\n",
       "      <td>tt0000574</td>\n",
       "      <td>6.1</td>\n",
       "      <td>589</td>\n",
       "      <td>6.3</td>\n",
       "      <td>6.0</td>\n",
       "      <td>57</td>\n",
       "      <td>18</td>\n",
       "      <td>58</td>\n",
       "      <td>137</td>\n",
       "      <td>139</td>\n",
       "      <td>...</td>\n",
       "      <td>6.2</td>\n",
       "      <td>23.0</td>\n",
       "      <td>6.6</td>\n",
       "      <td>14.0</td>\n",
       "      <td>6.4</td>\n",
       "      <td>66.0</td>\n",
       "      <td>6.0</td>\n",
       "      <td>96.0</td>\n",
       "      <td>6.2</td>\n",
       "      <td>331.0</td>\n",
       "    </tr>\n",
       "    <tr>\n",
       "      <th>2</th>\n",
       "      <td>tt0001892</td>\n",
       "      <td>5.8</td>\n",
       "      <td>188</td>\n",
       "      <td>6.0</td>\n",
       "      <td>6.0</td>\n",
       "      <td>6</td>\n",
       "      <td>6</td>\n",
       "      <td>17</td>\n",
       "      <td>44</td>\n",
       "      <td>52</td>\n",
       "      <td>...</td>\n",
       "      <td>5.8</td>\n",
       "      <td>4.0</td>\n",
       "      <td>6.8</td>\n",
       "      <td>7.0</td>\n",
       "      <td>5.4</td>\n",
       "      <td>32.0</td>\n",
       "      <td>6.2</td>\n",
       "      <td>31.0</td>\n",
       "      <td>5.9</td>\n",
       "      <td>123.0</td>\n",
       "    </tr>\n",
       "    <tr>\n",
       "      <th>3</th>\n",
       "      <td>tt0002101</td>\n",
       "      <td>5.2</td>\n",
       "      <td>446</td>\n",
       "      <td>5.3</td>\n",
       "      <td>5.0</td>\n",
       "      <td>15</td>\n",
       "      <td>8</td>\n",
       "      <td>16</td>\n",
       "      <td>62</td>\n",
       "      <td>98</td>\n",
       "      <td>...</td>\n",
       "      <td>5.5</td>\n",
       "      <td>14.0</td>\n",
       "      <td>6.1</td>\n",
       "      <td>21.0</td>\n",
       "      <td>4.9</td>\n",
       "      <td>57.0</td>\n",
       "      <td>5.5</td>\n",
       "      <td>207.0</td>\n",
       "      <td>4.7</td>\n",
       "      <td>105.0</td>\n",
       "    </tr>\n",
       "    <tr>\n",
       "      <th>4</th>\n",
       "      <td>tt0002130</td>\n",
       "      <td>7.0</td>\n",
       "      <td>2237</td>\n",
       "      <td>6.9</td>\n",
       "      <td>7.0</td>\n",
       "      <td>210</td>\n",
       "      <td>225</td>\n",
       "      <td>436</td>\n",
       "      <td>641</td>\n",
       "      <td>344</td>\n",
       "      <td>...</td>\n",
       "      <td>7.3</td>\n",
       "      <td>82.0</td>\n",
       "      <td>7.4</td>\n",
       "      <td>77.0</td>\n",
       "      <td>6.9</td>\n",
       "      <td>139.0</td>\n",
       "      <td>7.0</td>\n",
       "      <td>488.0</td>\n",
       "      <td>7.0</td>\n",
       "      <td>1166.0</td>\n",
       "    </tr>\n",
       "  </tbody>\n",
       "</table>\n",
       "<p>5 rows × 49 columns</p>\n",
       "</div>"
      ],
      "text/plain": [
       "  imdb_title_id  weighted_average_vote  total_votes  mean_vote  median_vote  \\\n",
       "0     tt0000009                    5.9          154        5.9          6.0   \n",
       "1     tt0000574                    6.1          589        6.3          6.0   \n",
       "2     tt0001892                    5.8          188        6.0          6.0   \n",
       "3     tt0002101                    5.2          446        5.3          5.0   \n",
       "4     tt0002130                    7.0         2237        6.9          7.0   \n",
       "\n",
       "   votes_10  votes_9  votes_8  votes_7  votes_6  ...  females_30age_avg_vote  \\\n",
       "0        12        4       10       43       28  ...                     5.7   \n",
       "1        57       18       58      137      139  ...                     6.2   \n",
       "2         6        6       17       44       52  ...                     5.8   \n",
       "3        15        8       16       62       98  ...                     5.5   \n",
       "4       210      225      436      641      344  ...                     7.3   \n",
       "\n",
       "   females_30age_votes  females_45age_avg_vote  females_45age_votes  \\\n",
       "0                 13.0                     4.5                  4.0   \n",
       "1                 23.0                     6.6                 14.0   \n",
       "2                  4.0                     6.8                  7.0   \n",
       "3                 14.0                     6.1                 21.0   \n",
       "4                 82.0                     7.4                 77.0   \n",
       "\n",
       "   top1000_voters_rating  top1000_voters_votes  us_voters_rating  \\\n",
       "0                    5.7                  34.0               6.4   \n",
       "1                    6.4                  66.0               6.0   \n",
       "2                    5.4                  32.0               6.2   \n",
       "3                    4.9                  57.0               5.5   \n",
       "4                    6.9                 139.0               7.0   \n",
       "\n",
       "   us_voters_votes  non_us_voters_rating  non_us_voters_votes  \n",
       "0             51.0                   6.0                 70.0  \n",
       "1             96.0                   6.2                331.0  \n",
       "2             31.0                   5.9                123.0  \n",
       "3            207.0                   4.7                105.0  \n",
       "4            488.0                   7.0               1166.0  \n",
       "\n",
       "[5 rows x 49 columns]"
      ]
     },
     "execution_count": 7,
     "metadata": {},
     "output_type": "execute_result"
    }
   ],
   "source": [
    "ratings_data_df.head()"
   ]
  },
  {
   "cell_type": "markdown",
   "id": "31fd4733",
   "metadata": {},
   "source": [
    "# Data Transformation "
   ]
  },
  {
   "cell_type": "markdown",
   "id": "fbedf2e6",
   "metadata": {},
   "source": [
    "Netflix Data File Transformation: \n",
    "1. Checked the data types - Changed \"date_added\" to datetime format\n",
    "2. Filtered out movies from all show types by loc function\n",
    "3. Rename, organized and split the data into two tables- Netflix Movie Basic info and Netflix Movie Date info\n",
    "4. Checked and handled missing values for each new table- replaced Netflix Movie Basic missing \"country\" to \"other\" and missing \"Rating\" to \"NR\""
   ]
  },
  {
   "cell_type": "code",
   "execution_count": 8,
   "id": "84f9c95c",
   "metadata": {},
   "outputs": [
    {
     "data": {
      "text/plain": [
       "show_id         object\n",
       "type            object\n",
       "title           object\n",
       "director        object\n",
       "cast            object\n",
       "country         object\n",
       "date_added      object\n",
       "release_year     int64\n",
       "rating          object\n",
       "duration        object\n",
       "listed_in       object\n",
       "description     object\n",
       "dtype: object"
      ]
     },
     "execution_count": 8,
     "metadata": {},
     "output_type": "execute_result"
    }
   ],
   "source": [
    "netflix_all.dtypes"
   ]
  },
  {
   "cell_type": "code",
   "execution_count": 9,
   "id": "8d9471c7",
   "metadata": {},
   "outputs": [],
   "source": [
    "netflix_all['date_added'] =pd.to_datetime(netflix_all.date_added)"
   ]
  },
  {
   "cell_type": "code",
   "execution_count": 10,
   "id": "1e06d534",
   "metadata": {},
   "outputs": [
    {
     "data": {
      "text/plain": [
       "show_id            0\n",
       "type               0\n",
       "title              0\n",
       "director        2389\n",
       "cast             718\n",
       "country          507\n",
       "date_added        10\n",
       "release_year       0\n",
       "rating             7\n",
       "duration           0\n",
       "listed_in          0\n",
       "description        0\n",
       "dtype: int64"
      ]
     },
     "execution_count": 10,
     "metadata": {},
     "output_type": "execute_result"
    }
   ],
   "source": [
    "# Check missing values\n",
    "netflix_all.isnull().sum()"
   ]
  },
  {
   "cell_type": "code",
   "execution_count": 11,
   "id": "94f38ce0",
   "metadata": {},
   "outputs": [
    {
     "data": {
      "text/plain": [
       "(5377, 12)"
      ]
     },
     "execution_count": 11,
     "metadata": {},
     "output_type": "execute_result"
    }
   ],
   "source": [
    "# Filter out Movies\n",
    "netflix_movie = netflix_all.loc[netflix_all.type=='Movie']\n",
    "netflix_movie.shape"
   ]
  },
  {
   "cell_type": "code",
   "execution_count": 12,
   "id": "92006f5a",
   "metadata": {},
   "outputs": [],
   "source": [
    "netflix_movie = netflix_movie.rename(columns={'show_id':'netflix_show_id'})"
   ]
  },
  {
   "cell_type": "code",
   "execution_count": 13,
   "id": "2e12f294",
   "metadata": {},
   "outputs": [
    {
     "data": {
      "text/plain": [
       "netflix_show_id      0\n",
       "title                0\n",
       "country            230\n",
       "rating               5\n",
       "duration             0\n",
       "description          0\n",
       "dtype: int64"
      ]
     },
     "execution_count": 13,
     "metadata": {},
     "output_type": "execute_result"
    }
   ],
   "source": [
    "netflix_movie_basic = netflix_movie [[ 'netflix_show_id','title','country','rating','duration','description']]\n",
    "netflix_movie_basic.isnull().sum()"
   ]
  },
  {
   "cell_type": "code",
   "execution_count": 14,
   "id": "ceaf2486",
   "metadata": {},
   "outputs": [
    {
     "data": {
      "text/plain": [
       "TV-MA       1845\n",
       "TV-14       1272\n",
       "R            663\n",
       "TV-PG        505\n",
       "PG-13        386\n",
       "PG           247\n",
       "TV-Y         117\n",
       "TV-G         111\n",
       "TV-Y7         95\n",
       "NR            79\n",
       "G             39\n",
       "UR             5\n",
       "TV-Y7-FV       5\n",
       "NC-17          3\n",
       "Name: rating, dtype: int64"
      ]
     },
     "execution_count": 14,
     "metadata": {},
     "output_type": "execute_result"
    }
   ],
   "source": [
    "netflix_movie_basic.rating.value_counts()"
   ]
  },
  {
   "cell_type": "code",
   "execution_count": 15,
   "id": "8ee64e7c",
   "metadata": {},
   "outputs": [],
   "source": [
    "# Change the countries from Na to \"other\"\n",
    "netflix_movie_basic['country'] =netflix_movie_basic['country'].fillna('other')\n",
    "netflix_movie_basic['rating'] =netflix_movie_basic['rating'].fillna('NR')"
   ]
  },
  {
   "cell_type": "code",
   "execution_count": 16,
   "id": "d3b90b49",
   "metadata": {},
   "outputs": [
    {
     "data": {
      "text/plain": [
       "netflix_show_id    0\n",
       "title              0\n",
       "country            0\n",
       "rating             0\n",
       "duration           0\n",
       "description        0\n",
       "dtype: int64"
      ]
     },
     "execution_count": 16,
     "metadata": {},
     "output_type": "execute_result"
    }
   ],
   "source": [
    "netflix_movie_basic.isnull().sum()"
   ]
  },
  {
   "cell_type": "code",
   "execution_count": 17,
   "id": "f763cb5e",
   "metadata": {},
   "outputs": [
    {
     "data": {
      "text/html": [
       "<div>\n",
       "<style scoped>\n",
       "    .dataframe tbody tr th:only-of-type {\n",
       "        vertical-align: middle;\n",
       "    }\n",
       "\n",
       "    .dataframe tbody tr th {\n",
       "        vertical-align: top;\n",
       "    }\n",
       "\n",
       "    .dataframe thead th {\n",
       "        text-align: right;\n",
       "    }\n",
       "</style>\n",
       "<table border=\"1\" class=\"dataframe\">\n",
       "  <thead>\n",
       "    <tr style=\"text-align: right;\">\n",
       "      <th></th>\n",
       "      <th>title</th>\n",
       "      <th>country</th>\n",
       "      <th>rating</th>\n",
       "      <th>duration</th>\n",
       "      <th>description</th>\n",
       "    </tr>\n",
       "    <tr>\n",
       "      <th>netflix_show_id</th>\n",
       "      <th></th>\n",
       "      <th></th>\n",
       "      <th></th>\n",
       "      <th></th>\n",
       "      <th></th>\n",
       "    </tr>\n",
       "  </thead>\n",
       "  <tbody>\n",
       "    <tr>\n",
       "      <th>s2</th>\n",
       "      <td>7:19</td>\n",
       "      <td>Mexico</td>\n",
       "      <td>TV-MA</td>\n",
       "      <td>93 min</td>\n",
       "      <td>After a devastating earthquake hits Mexico Cit...</td>\n",
       "    </tr>\n",
       "    <tr>\n",
       "      <th>s3</th>\n",
       "      <td>23:59</td>\n",
       "      <td>Singapore</td>\n",
       "      <td>R</td>\n",
       "      <td>78 min</td>\n",
       "      <td>When an army recruit is found dead, his fellow...</td>\n",
       "    </tr>\n",
       "    <tr>\n",
       "      <th>s4</th>\n",
       "      <td>9</td>\n",
       "      <td>United States</td>\n",
       "      <td>PG-13</td>\n",
       "      <td>80 min</td>\n",
       "      <td>In a postapocalyptic world, rag-doll robots hi...</td>\n",
       "    </tr>\n",
       "    <tr>\n",
       "      <th>s5</th>\n",
       "      <td>21</td>\n",
       "      <td>United States</td>\n",
       "      <td>PG-13</td>\n",
       "      <td>123 min</td>\n",
       "      <td>A brilliant group of students become card-coun...</td>\n",
       "    </tr>\n",
       "    <tr>\n",
       "      <th>s7</th>\n",
       "      <td>122</td>\n",
       "      <td>Egypt</td>\n",
       "      <td>TV-MA</td>\n",
       "      <td>95 min</td>\n",
       "      <td>After an awful accident, a couple admitted to ...</td>\n",
       "    </tr>\n",
       "  </tbody>\n",
       "</table>\n",
       "</div>"
      ],
      "text/plain": [
       "                 title        country rating duration  \\\n",
       "netflix_show_id                                         \n",
       "s2                7:19         Mexico  TV-MA   93 min   \n",
       "s3               23:59      Singapore      R   78 min   \n",
       "s4                   9  United States  PG-13   80 min   \n",
       "s5                  21  United States  PG-13  123 min   \n",
       "s7                 122          Egypt  TV-MA   95 min   \n",
       "\n",
       "                                                       description  \n",
       "netflix_show_id                                                     \n",
       "s2               After a devastating earthquake hits Mexico Cit...  \n",
       "s3               When an army recruit is found dead, his fellow...  \n",
       "s4               In a postapocalyptic world, rag-doll robots hi...  \n",
       "s5               A brilliant group of students become card-coun...  \n",
       "s7               After an awful accident, a couple admitted to ...  "
      ]
     },
     "execution_count": 17,
     "metadata": {},
     "output_type": "execute_result"
    }
   ],
   "source": [
    "netflix_movie_basic.set_index(\"netflix_show_id\", inplace=True)\n",
    "netflix_movie_basic.head()"
   ]
  },
  {
   "cell_type": "code",
   "execution_count": 18,
   "id": "90099691",
   "metadata": {},
   "outputs": [
    {
     "data": {
      "text/plain": [
       "netflix_show_id    0\n",
       "date_added         0\n",
       "release_year       0\n",
       "dtype: int64"
      ]
     },
     "execution_count": 18,
     "metadata": {},
     "output_type": "execute_result"
    }
   ],
   "source": [
    "netflix_movie_date = netflix_movie [[ 'netflix_show_id','date_added','release_year']]\n",
    "netflix_movie_date.isnull().sum()"
   ]
  },
  {
   "cell_type": "code",
   "execution_count": 19,
   "id": "c1d3cf8e",
   "metadata": {},
   "outputs": [
    {
     "data": {
      "text/html": [
       "<div>\n",
       "<style scoped>\n",
       "    .dataframe tbody tr th:only-of-type {\n",
       "        vertical-align: middle;\n",
       "    }\n",
       "\n",
       "    .dataframe tbody tr th {\n",
       "        vertical-align: top;\n",
       "    }\n",
       "\n",
       "    .dataframe thead th {\n",
       "        text-align: right;\n",
       "    }\n",
       "</style>\n",
       "<table border=\"1\" class=\"dataframe\">\n",
       "  <thead>\n",
       "    <tr style=\"text-align: right;\">\n",
       "      <th></th>\n",
       "      <th>date_added</th>\n",
       "      <th>release_year</th>\n",
       "    </tr>\n",
       "    <tr>\n",
       "      <th>netflix_show_id</th>\n",
       "      <th></th>\n",
       "      <th></th>\n",
       "    </tr>\n",
       "  </thead>\n",
       "  <tbody>\n",
       "    <tr>\n",
       "      <th>s2</th>\n",
       "      <td>2016-12-23</td>\n",
       "      <td>2016</td>\n",
       "    </tr>\n",
       "    <tr>\n",
       "      <th>s3</th>\n",
       "      <td>2018-12-20</td>\n",
       "      <td>2011</td>\n",
       "    </tr>\n",
       "    <tr>\n",
       "      <th>s4</th>\n",
       "      <td>2017-11-16</td>\n",
       "      <td>2009</td>\n",
       "    </tr>\n",
       "    <tr>\n",
       "      <th>s5</th>\n",
       "      <td>2020-01-01</td>\n",
       "      <td>2008</td>\n",
       "    </tr>\n",
       "    <tr>\n",
       "      <th>s7</th>\n",
       "      <td>2020-06-01</td>\n",
       "      <td>2019</td>\n",
       "    </tr>\n",
       "  </tbody>\n",
       "</table>\n",
       "</div>"
      ],
      "text/plain": [
       "                date_added  release_year\n",
       "netflix_show_id                         \n",
       "s2              2016-12-23          2016\n",
       "s3              2018-12-20          2011\n",
       "s4              2017-11-16          2009\n",
       "s5              2020-01-01          2008\n",
       "s7              2020-06-01          2019"
      ]
     },
     "execution_count": 19,
     "metadata": {},
     "output_type": "execute_result"
    }
   ],
   "source": [
    "netflix_movie_date.set_index(\"netflix_show_id\", inplace=True)\n",
    "netflix_movie_date.head()"
   ]
  },
  {
   "cell_type": "markdown",
   "id": "1b01b85f",
   "metadata": {},
   "source": [
    "Rotten Tomatoes Movies Data File Transformation:\n",
    "\n",
    "1. Checked the data types\n",
    "2. Kept columns for title, rating and counts only\n",
    "3. Renamed columns for label consistency between datasets\n",
    "4. Checked missing calues and dropped NA rows"
   ]
  },
  {
   "cell_type": "code",
   "execution_count": 20,
   "id": "5cc55d2e",
   "metadata": {},
   "outputs": [],
   "source": [
    "rotten_tomatoes_movies = rotten_tomatoes_movies.rename(columns={'rotten_tomatoes_link':'rotten_tomatoes_id','movie_title':'title'})"
   ]
  },
  {
   "cell_type": "code",
   "execution_count": 21,
   "id": "8976bdee",
   "metadata": {},
   "outputs": [
    {
     "data": {
      "text/plain": [
       "(17712, 22)"
      ]
     },
     "execution_count": 21,
     "metadata": {},
     "output_type": "execute_result"
    }
   ],
   "source": [
    "rotten_tomatoes_movies.shape"
   ]
  },
  {
   "cell_type": "code",
   "execution_count": 22,
   "id": "8408bace",
   "metadata": {},
   "outputs": [
    {
     "data": {
      "text/plain": [
       "rotten_tomatoes_id                   object\n",
       "title                                object\n",
       "movie_info                           object\n",
       "critics_consensus                    object\n",
       "content_rating                       object\n",
       "genres                               object\n",
       "directors                            object\n",
       "authors                              object\n",
       "actors                               object\n",
       "original_release_date                object\n",
       "streaming_release_date               object\n",
       "runtime                             float64\n",
       "production_company                   object\n",
       "tomatometer_status                   object\n",
       "tomatometer_rating                  float64\n",
       "tomatometer_count                   float64\n",
       "audience_status                      object\n",
       "audience_rating                     float64\n",
       "audience_count                      float64\n",
       "tomatometer_top_critics_count         int64\n",
       "tomatometer_fresh_critics_count       int64\n",
       "tomatometer_rotten_critics_count      int64\n",
       "dtype: object"
      ]
     },
     "execution_count": 22,
     "metadata": {},
     "output_type": "execute_result"
    }
   ],
   "source": [
    "rotten_tomatoes_movies.dtypes"
   ]
  },
  {
   "cell_type": "code",
   "execution_count": 23,
   "id": "4f670d3d",
   "metadata": {},
   "outputs": [
    {
     "data": {
      "text/plain": [
       "rotten_tomatoes_id                     0\n",
       "title                                  0\n",
       "movie_info                           321\n",
       "critics_consensus                   8578\n",
       "content_rating                         0\n",
       "genres                                19\n",
       "directors                            194\n",
       "authors                             1542\n",
       "actors                               352\n",
       "original_release_date               1166\n",
       "streaming_release_date               384\n",
       "runtime                              314\n",
       "production_company                   499\n",
       "tomatometer_status                    44\n",
       "tomatometer_rating                    44\n",
       "tomatometer_count                     44\n",
       "audience_status                      448\n",
       "audience_rating                      296\n",
       "audience_count                       297\n",
       "tomatometer_top_critics_count          0\n",
       "tomatometer_fresh_critics_count        0\n",
       "tomatometer_rotten_critics_count       0\n",
       "dtype: int64"
      ]
     },
     "execution_count": 23,
     "metadata": {},
     "output_type": "execute_result"
    }
   ],
   "source": [
    "rotten_tomatoes_movies.isnull().sum()"
   ]
  },
  {
   "cell_type": "code",
   "execution_count": 24,
   "id": "8fb44905",
   "metadata": {},
   "outputs": [],
   "source": [
    "rotten_tomatoes_movies_clean = rotten_tomatoes_movies.dropna(subset = ['tomatometer_rating', 'audience_count'])\n",
    "rotten_tomatoes_movies_clean['audience_status'] =rotten_tomatoes_movies_clean['audience_status'].fillna('other')"
   ]
  },
  {
   "cell_type": "code",
   "execution_count": 25,
   "id": "49f51ea0",
   "metadata": {},
   "outputs": [
    {
     "data": {
      "text/html": [
       "<div>\n",
       "<style scoped>\n",
       "    .dataframe tbody tr th:only-of-type {\n",
       "        vertical-align: middle;\n",
       "    }\n",
       "\n",
       "    .dataframe tbody tr th {\n",
       "        vertical-align: top;\n",
       "    }\n",
       "\n",
       "    .dataframe thead th {\n",
       "        text-align: right;\n",
       "    }\n",
       "</style>\n",
       "<table border=\"1\" class=\"dataframe\">\n",
       "  <thead>\n",
       "    <tr style=\"text-align: right;\">\n",
       "      <th></th>\n",
       "      <th>title</th>\n",
       "      <th>tomatometer_status</th>\n",
       "      <th>tomatometer_rating</th>\n",
       "      <th>tomatometer_count</th>\n",
       "      <th>audience_status</th>\n",
       "      <th>audience_rating</th>\n",
       "      <th>audience_count</th>\n",
       "    </tr>\n",
       "    <tr>\n",
       "      <th>rotten_tomatoes_id</th>\n",
       "      <th></th>\n",
       "      <th></th>\n",
       "      <th></th>\n",
       "      <th></th>\n",
       "      <th></th>\n",
       "      <th></th>\n",
       "      <th></th>\n",
       "    </tr>\n",
       "  </thead>\n",
       "  <tbody>\n",
       "    <tr>\n",
       "      <th>m/0814255</th>\n",
       "      <td>Percy Jackson &amp; the Olympians: The Lightning T...</td>\n",
       "      <td>Rotten</td>\n",
       "      <td>49.0</td>\n",
       "      <td>149.0</td>\n",
       "      <td>Spilled</td>\n",
       "      <td>53.0</td>\n",
       "      <td>254421.0</td>\n",
       "    </tr>\n",
       "    <tr>\n",
       "      <th>m/0878835</th>\n",
       "      <td>Please Give</td>\n",
       "      <td>Certified-Fresh</td>\n",
       "      <td>87.0</td>\n",
       "      <td>142.0</td>\n",
       "      <td>Upright</td>\n",
       "      <td>64.0</td>\n",
       "      <td>11574.0</td>\n",
       "    </tr>\n",
       "  </tbody>\n",
       "</table>\n",
       "</div>"
      ],
      "text/plain": [
       "                                                                title  \\\n",
       "rotten_tomatoes_id                                                      \n",
       "m/0814255           Percy Jackson & the Olympians: The Lightning T...   \n",
       "m/0878835                                                 Please Give   \n",
       "\n",
       "                   tomatometer_status  tomatometer_rating  tomatometer_count  \\\n",
       "rotten_tomatoes_id                                                             \n",
       "m/0814255                      Rotten                49.0              149.0   \n",
       "m/0878835             Certified-Fresh                87.0              142.0   \n",
       "\n",
       "                   audience_status  audience_rating  audience_count  \n",
       "rotten_tomatoes_id                                                   \n",
       "m/0814255                  Spilled             53.0        254421.0  \n",
       "m/0878835                  Upright             64.0         11574.0  "
      ]
     },
     "execution_count": 25,
     "metadata": {},
     "output_type": "execute_result"
    }
   ],
   "source": [
    "rotten_tomatoes_movies_rating = rotten_tomatoes_movies_clean[['rotten_tomatoes_id','title','tomatometer_status','tomatometer_rating','tomatometer_count','audience_status','audience_rating','audience_count']]\n",
    "rotten_tomatoes_movies_rating.set_index(\"rotten_tomatoes_id\", inplace=True)\n",
    "rotten_tomatoes_movies_rating.head(2)"
   ]
  },
  {
   "cell_type": "markdown",
   "id": "4c5d307c",
   "metadata": {},
   "source": [
    "IMDB Data Rating File Transformation:\n",
    "Removed irrelevant columns and reorganized the votes by gender regardless of age.\n",
    "The \"mean_vote\" and \"median_vote\" columns were also removed due to redundancy. \n",
    "The \"total_votes\" and \"weighted_average_vote\" columns were switched around for the sake of clarity. "
   ]
  },
  {
   "cell_type": "code",
   "execution_count": 26,
   "id": "000d7d1d",
   "metadata": {},
   "outputs": [],
   "source": [
    "imdb_ratings_data_df = ratings_data_df[['imdb_title_id', 'total_votes', 'weighted_average_vote', 'males_allages_avg_vote', 'males_allages_votes', 'females_allages_avg_vote', 'females_allages_votes']].copy()"
   ]
  },
  {
   "cell_type": "code",
   "execution_count": 27,
   "id": "ae47a8fb",
   "metadata": {},
   "outputs": [],
   "source": [
    "imdb_ratings_data_df.set_index (\"imdb_title_id\", inplace = True)"
   ]
  },
  {
   "cell_type": "code",
   "execution_count": 28,
   "id": "eaa8b9e6",
   "metadata": {},
   "outputs": [],
   "source": [
    "###Store CSV into DataFrame\n",
    "#Data has been taken from Kaggle in csv files. \n",
    "\n",
    "movies_file =\"Resources/IMDb movies.csv\"\n",
    "books_file =\"Resources/books.csv\""
   ]
  },
  {
   "cell_type": "code",
   "execution_count": 29,
   "id": "ec22c9d3",
   "metadata": {},
   "outputs": [],
   "source": [
    "###Transform files to DataFrame\n",
    "#Read csv files by pandas, create a proper DataFrame by renaming, dropping duplicate datas, choosing columns needed, and setting index.\n",
    "\n",
    "movies_data_df = pd.read_csv(movies_file)"
   ]
  },
  {
   "cell_type": "code",
   "execution_count": 30,
   "id": "e8b4b640",
   "metadata": {},
   "outputs": [
    {
     "data": {
      "text/plain": [
       "Index(['imdb_title_id', 'title', 'original_title', 'year', 'date_published',\n",
       "       'genre', 'duration', 'country', 'language', 'director', 'writer',\n",
       "       'production_company', 'actors', 'description', 'avg_vote', 'votes',\n",
       "       'budget', 'usa_gross_income', 'worlwide_gross_income', 'metascore',\n",
       "       'reviews_from_users', 'reviews_from_critics'],\n",
       "      dtype='object')"
      ]
     },
     "execution_count": 30,
     "metadata": {},
     "output_type": "execute_result"
    }
   ],
   "source": [
    "#movies_data_df.head()\n",
    "\n",
    "#Checking columns names\n",
    "movies_data_df.columns"
   ]
  },
  {
   "cell_type": "code",
   "execution_count": 31,
   "id": "7a6c8705",
   "metadata": {},
   "outputs": [
    {
     "data": {
      "text/html": [
       "<div>\n",
       "<style scoped>\n",
       "    .dataframe tbody tr th:only-of-type {\n",
       "        vertical-align: middle;\n",
       "    }\n",
       "\n",
       "    .dataframe tbody tr th {\n",
       "        vertical-align: top;\n",
       "    }\n",
       "\n",
       "    .dataframe thead th {\n",
       "        text-align: right;\n",
       "    }\n",
       "</style>\n",
       "<table border=\"1\" class=\"dataframe\">\n",
       "  <thead>\n",
       "    <tr style=\"text-align: right;\">\n",
       "      <th></th>\n",
       "      <th>imdb_title_id</th>\n",
       "      <th>title</th>\n",
       "    </tr>\n",
       "  </thead>\n",
       "  <tbody>\n",
       "    <tr>\n",
       "      <th>0</th>\n",
       "      <td>tt0000009</td>\n",
       "      <td>Miss Jerry</td>\n",
       "    </tr>\n",
       "    <tr>\n",
       "      <th>1</th>\n",
       "      <td>tt0000574</td>\n",
       "      <td>The Story of the Kelly Gang</td>\n",
       "    </tr>\n",
       "    <tr>\n",
       "      <th>2</th>\n",
       "      <td>tt0001892</td>\n",
       "      <td>Den sorte drøm</td>\n",
       "    </tr>\n",
       "    <tr>\n",
       "      <th>3</th>\n",
       "      <td>tt0002101</td>\n",
       "      <td>Cleopatra</td>\n",
       "    </tr>\n",
       "    <tr>\n",
       "      <th>4</th>\n",
       "      <td>tt0002130</td>\n",
       "      <td>L'Inferno</td>\n",
       "    </tr>\n",
       "  </tbody>\n",
       "</table>\n",
       "</div>"
      ],
      "text/plain": [
       "  imdb_title_id                        title\n",
       "0     tt0000009                   Miss Jerry\n",
       "1     tt0000574  The Story of the Kelly Gang\n",
       "2     tt0001892               Den sorte drøm\n",
       "3     tt0002101                    Cleopatra\n",
       "4     tt0002130                    L'Inferno"
      ]
     },
     "execution_count": 31,
     "metadata": {},
     "output_type": "execute_result"
    }
   ],
   "source": [
    "movies_df = movies_data_df[[\"imdb_title_id\", \"title\"]].copy()\n",
    "movies_df.head()"
   ]
  },
  {
   "cell_type": "code",
   "execution_count": 32,
   "id": "ae29dcff",
   "metadata": {},
   "outputs": [
    {
     "data": {
      "text/plain": [
       "imdb_title_id    85855\n",
       "title            85855\n",
       "dtype: int64"
      ]
     },
     "execution_count": 32,
     "metadata": {},
     "output_type": "execute_result"
    }
   ],
   "source": [
    "movies_df.count()"
   ]
  },
  {
   "cell_type": "code",
   "execution_count": 33,
   "id": "0a969ba0",
   "metadata": {},
   "outputs": [
    {
     "data": {
      "text/plain": [
       "imdb_title_id    82094\n",
       "title            82094\n",
       "dtype: int64"
      ]
     },
     "execution_count": 33,
     "metadata": {},
     "output_type": "execute_result"
    }
   ],
   "source": [
    "movies_df.drop_duplicates(\"title\", inplace=True)\n",
    "movies_df.count()"
   ]
  },
  {
   "cell_type": "code",
   "execution_count": 34,
   "id": "1092faf1",
   "metadata": {},
   "outputs": [
    {
     "data": {
      "text/html": [
       "<div>\n",
       "<style scoped>\n",
       "    .dataframe tbody tr th:only-of-type {\n",
       "        vertical-align: middle;\n",
       "    }\n",
       "\n",
       "    .dataframe tbody tr th {\n",
       "        vertical-align: top;\n",
       "    }\n",
       "\n",
       "    .dataframe thead th {\n",
       "        text-align: right;\n",
       "    }\n",
       "</style>\n",
       "<table border=\"1\" class=\"dataframe\">\n",
       "  <thead>\n",
       "    <tr style=\"text-align: right;\">\n",
       "      <th></th>\n",
       "      <th>movie_title</th>\n",
       "    </tr>\n",
       "    <tr>\n",
       "      <th>id</th>\n",
       "      <th></th>\n",
       "    </tr>\n",
       "  </thead>\n",
       "  <tbody>\n",
       "    <tr>\n",
       "      <th>tt0000009</th>\n",
       "      <td>Miss Jerry</td>\n",
       "    </tr>\n",
       "    <tr>\n",
       "      <th>tt0000574</th>\n",
       "      <td>The Story of the Kelly Gang</td>\n",
       "    </tr>\n",
       "    <tr>\n",
       "      <th>tt0001892</th>\n",
       "      <td>Den sorte drøm</td>\n",
       "    </tr>\n",
       "    <tr>\n",
       "      <th>tt0002101</th>\n",
       "      <td>Cleopatra</td>\n",
       "    </tr>\n",
       "    <tr>\n",
       "      <th>tt0002130</th>\n",
       "      <td>L'Inferno</td>\n",
       "    </tr>\n",
       "  </tbody>\n",
       "</table>\n",
       "</div>"
      ],
      "text/plain": [
       "                           movie_title\n",
       "id                                    \n",
       "tt0000009                   Miss Jerry\n",
       "tt0000574  The Story of the Kelly Gang\n",
       "tt0001892               Den sorte drøm\n",
       "tt0002101                    Cleopatra\n",
       "tt0002130                    L'Inferno"
      ]
     },
     "execution_count": 34,
     "metadata": {},
     "output_type": "execute_result"
    }
   ],
   "source": [
    "# movies_df[\"movie_title\"]=movies_df[\"movie_title\"].fillna(\"unknown\")\n",
    "# unknown = movies_df.loc[movies_df[\"movie_title\"]==\"unknown\"]\n",
    "# unknown.count()\n",
    "\n",
    "movies_df = movies_df.rename(columns= {\"imdb_title_id\":\"id\", \"title\":\"movie_title\"})\n",
    "movies_df.set_index(\"id\", inplace = True)\n",
    "movies_df.head()"
   ]
  },
  {
   "cell_type": "code",
   "execution_count": 35,
   "id": "f9590883",
   "metadata": {},
   "outputs": [],
   "source": [
    "###Transform books_file to DataFrame\n",
    "# Create a proper DataFrame by renaming, dropping duplicate datas, choosing columns needed, and setting index.\n",
    "\n",
    "books_data_df = pd.read_csv(books_file)"
   ]
  },
  {
   "cell_type": "code",
   "execution_count": 36,
   "id": "8c16c9df",
   "metadata": {},
   "outputs": [
    {
     "data": {
      "text/plain": [
       "Index(['id', 'book_id', 'best_book_id', 'work_id', 'books_count', 'isbn',\n",
       "       'isbn13', 'authors', 'original_publication_year', 'original_title',\n",
       "       'title', 'language_code', 'average_rating', 'ratings_count',\n",
       "       'work_ratings_count', 'work_text_reviews_count', 'ratings_1',\n",
       "       'ratings_2', 'ratings_3', 'ratings_4', 'ratings_5', 'image_url',\n",
       "       'small_image_url'],\n",
       "      dtype='object')"
      ]
     },
     "execution_count": 36,
     "metadata": {},
     "output_type": "execute_result"
    }
   ],
   "source": [
    "#books_data_df.head()\n",
    "\n",
    "books_data_df.columns"
   ]
  },
  {
   "cell_type": "code",
   "execution_count": 37,
   "id": "90795395",
   "metadata": {},
   "outputs": [
    {
     "data": {
      "text/html": [
       "<div>\n",
       "<style scoped>\n",
       "    .dataframe tbody tr th:only-of-type {\n",
       "        vertical-align: middle;\n",
       "    }\n",
       "\n",
       "    .dataframe tbody tr th {\n",
       "        vertical-align: top;\n",
       "    }\n",
       "\n",
       "    .dataframe thead th {\n",
       "        text-align: right;\n",
       "    }\n",
       "</style>\n",
       "<table border=\"1\" class=\"dataframe\">\n",
       "  <thead>\n",
       "    <tr style=\"text-align: right;\">\n",
       "      <th></th>\n",
       "      <th>book_id</th>\n",
       "      <th>authors</th>\n",
       "      <th>title</th>\n",
       "      <th>original_publication_year</th>\n",
       "    </tr>\n",
       "  </thead>\n",
       "  <tbody>\n",
       "    <tr>\n",
       "      <th>0</th>\n",
       "      <td>2767052</td>\n",
       "      <td>Suzanne Collins</td>\n",
       "      <td>The Hunger Games (The Hunger Games, #1)</td>\n",
       "      <td>2008.0</td>\n",
       "    </tr>\n",
       "    <tr>\n",
       "      <th>1</th>\n",
       "      <td>3</td>\n",
       "      <td>J.K. Rowling, Mary GrandPré</td>\n",
       "      <td>Harry Potter and the Sorcerer's Stone (Harry P...</td>\n",
       "      <td>1997.0</td>\n",
       "    </tr>\n",
       "    <tr>\n",
       "      <th>2</th>\n",
       "      <td>41865</td>\n",
       "      <td>Stephenie Meyer</td>\n",
       "      <td>Twilight (Twilight, #1)</td>\n",
       "      <td>2005.0</td>\n",
       "    </tr>\n",
       "    <tr>\n",
       "      <th>3</th>\n",
       "      <td>2657</td>\n",
       "      <td>Harper Lee</td>\n",
       "      <td>To Kill a Mockingbird</td>\n",
       "      <td>1960.0</td>\n",
       "    </tr>\n",
       "    <tr>\n",
       "      <th>4</th>\n",
       "      <td>4671</td>\n",
       "      <td>F. Scott Fitzgerald</td>\n",
       "      <td>The Great Gatsby</td>\n",
       "      <td>1925.0</td>\n",
       "    </tr>\n",
       "  </tbody>\n",
       "</table>\n",
       "</div>"
      ],
      "text/plain": [
       "   book_id                      authors  \\\n",
       "0  2767052              Suzanne Collins   \n",
       "1        3  J.K. Rowling, Mary GrandPré   \n",
       "2    41865              Stephenie Meyer   \n",
       "3     2657                   Harper Lee   \n",
       "4     4671          F. Scott Fitzgerald   \n",
       "\n",
       "                                               title  \\\n",
       "0            The Hunger Games (The Hunger Games, #1)   \n",
       "1  Harry Potter and the Sorcerer's Stone (Harry P...   \n",
       "2                            Twilight (Twilight, #1)   \n",
       "3                              To Kill a Mockingbird   \n",
       "4                                   The Great Gatsby   \n",
       "\n",
       "   original_publication_year  \n",
       "0                     2008.0  \n",
       "1                     1997.0  \n",
       "2                     2005.0  \n",
       "3                     1960.0  \n",
       "4                     1925.0  "
      ]
     },
     "execution_count": 37,
     "metadata": {},
     "output_type": "execute_result"
    }
   ],
   "source": [
    "books_df = books_data_df[[\"book_id\", \"authors\", \"title\", \"original_publication_year\"]].copy()\n",
    "books_df.head()"
   ]
  },
  {
   "cell_type": "code",
   "execution_count": 38,
   "id": "404d087e",
   "metadata": {},
   "outputs": [
    {
     "data": {
      "text/plain": [
       "book_id                      9964\n",
       "authors                      9964\n",
       "title                        9964\n",
       "original_publication_year    9943\n",
       "dtype: int64"
      ]
     },
     "execution_count": 38,
     "metadata": {},
     "output_type": "execute_result"
    }
   ],
   "source": [
    "# book_df.count()\n",
    "books_df.drop_duplicates([\"title\"], inplace=True)\n",
    "books_df.count()"
   ]
  },
  {
   "cell_type": "code",
   "execution_count": 39,
   "id": "5152d9eb",
   "metadata": {},
   "outputs": [
    {
     "data": {
      "text/plain": [
       "book_id                      9964\n",
       "authors                      9964\n",
       "title                        9964\n",
       "original_publication_year    9964\n",
       "dtype: int64"
      ]
     },
     "execution_count": 39,
     "metadata": {},
     "output_type": "execute_result"
    }
   ],
   "source": [
    "books_df[\"original_publication_year\"]=books_df[\"original_publication_year\"].fillna(0)\n",
    "books_df.count()"
   ]
  },
  {
   "cell_type": "code",
   "execution_count": 40,
   "id": "1a390b02",
   "metadata": {},
   "outputs": [
    {
     "data": {
      "text/html": [
       "<div>\n",
       "<style scoped>\n",
       "    .dataframe tbody tr th:only-of-type {\n",
       "        vertical-align: middle;\n",
       "    }\n",
       "\n",
       "    .dataframe tbody tr th {\n",
       "        vertical-align: top;\n",
       "    }\n",
       "\n",
       "    .dataframe thead th {\n",
       "        text-align: right;\n",
       "    }\n",
       "</style>\n",
       "<table border=\"1\" class=\"dataframe\">\n",
       "  <thead>\n",
       "    <tr style=\"text-align: right;\">\n",
       "      <th></th>\n",
       "      <th>Authors</th>\n",
       "      <th>Book_Title</th>\n",
       "      <th>Published_Year</th>\n",
       "    </tr>\n",
       "    <tr>\n",
       "      <th>ID</th>\n",
       "      <th></th>\n",
       "      <th></th>\n",
       "      <th></th>\n",
       "    </tr>\n",
       "  </thead>\n",
       "  <tbody>\n",
       "    <tr>\n",
       "      <th>2767052</th>\n",
       "      <td>Suzanne Collins</td>\n",
       "      <td>The Hunger Games (The Hunger Games, #1)</td>\n",
       "      <td>2008.0</td>\n",
       "    </tr>\n",
       "    <tr>\n",
       "      <th>3</th>\n",
       "      <td>J.K. Rowling, Mary GrandPré</td>\n",
       "      <td>Harry Potter and the Sorcerer's Stone (Harry P...</td>\n",
       "      <td>1997.0</td>\n",
       "    </tr>\n",
       "    <tr>\n",
       "      <th>41865</th>\n",
       "      <td>Stephenie Meyer</td>\n",
       "      <td>Twilight (Twilight, #1)</td>\n",
       "      <td>2005.0</td>\n",
       "    </tr>\n",
       "    <tr>\n",
       "      <th>2657</th>\n",
       "      <td>Harper Lee</td>\n",
       "      <td>To Kill a Mockingbird</td>\n",
       "      <td>1960.0</td>\n",
       "    </tr>\n",
       "    <tr>\n",
       "      <th>4671</th>\n",
       "      <td>F. Scott Fitzgerald</td>\n",
       "      <td>The Great Gatsby</td>\n",
       "      <td>1925.0</td>\n",
       "    </tr>\n",
       "  </tbody>\n",
       "</table>\n",
       "</div>"
      ],
      "text/plain": [
       "                             Authors  \\\n",
       "ID                                     \n",
       "2767052              Suzanne Collins   \n",
       "3        J.K. Rowling, Mary GrandPré   \n",
       "41865                Stephenie Meyer   \n",
       "2657                      Harper Lee   \n",
       "4671             F. Scott Fitzgerald   \n",
       "\n",
       "                                                Book_Title  Published_Year  \n",
       "ID                                                                          \n",
       "2767052            The Hunger Games (The Hunger Games, #1)          2008.0  \n",
       "3        Harry Potter and the Sorcerer's Stone (Harry P...          1997.0  \n",
       "41865                              Twilight (Twilight, #1)          2005.0  \n",
       "2657                                 To Kill a Mockingbird          1960.0  \n",
       "4671                                      The Great Gatsby          1925.0  "
      ]
     },
     "execution_count": 40,
     "metadata": {},
     "output_type": "execute_result"
    }
   ],
   "source": [
    "books_df = books_df.rename(columns= {\"book_id\":\"ID\", \"authors\":\"Authors\", \"title\":\"Book_Title\", \"original_publication_year\":\"Published_Year\"})\n",
    "books_df.set_index(\"ID\", inplace = True)\n",
    "books_df.head()"
   ]
  },
  {
   "cell_type": "code",
   "execution_count": 41,
   "id": "e7f315f8",
   "metadata": {},
   "outputs": [
    {
     "data": {
      "text/html": [
       "<div>\n",
       "<style scoped>\n",
       "    .dataframe tbody tr th:only-of-type {\n",
       "        vertical-align: middle;\n",
       "    }\n",
       "\n",
       "    .dataframe tbody tr th {\n",
       "        vertical-align: top;\n",
       "    }\n",
       "\n",
       "    .dataframe thead th {\n",
       "        text-align: right;\n",
       "    }\n",
       "</style>\n",
       "<table border=\"1\" class=\"dataframe\">\n",
       "  <thead>\n",
       "    <tr style=\"text-align: right;\">\n",
       "      <th></th>\n",
       "      <th>Authors</th>\n",
       "      <th>Book_Title</th>\n",
       "      <th>Published_Year</th>\n",
       "    </tr>\n",
       "    <tr>\n",
       "      <th>ID</th>\n",
       "      <th></th>\n",
       "      <th></th>\n",
       "      <th></th>\n",
       "    </tr>\n",
       "  </thead>\n",
       "  <tbody>\n",
       "    <tr>\n",
       "      <th>2767052</th>\n",
       "      <td>Suzanne Collins</td>\n",
       "      <td>The Hunger Games (The Hunger Games, #1)</td>\n",
       "      <td>2008</td>\n",
       "    </tr>\n",
       "    <tr>\n",
       "      <th>3</th>\n",
       "      <td>J.K. Rowling, Mary GrandPré</td>\n",
       "      <td>Harry Potter and the Sorcerer's Stone (Harry P...</td>\n",
       "      <td>1997</td>\n",
       "    </tr>\n",
       "    <tr>\n",
       "      <th>41865</th>\n",
       "      <td>Stephenie Meyer</td>\n",
       "      <td>Twilight (Twilight, #1)</td>\n",
       "      <td>2005</td>\n",
       "    </tr>\n",
       "    <tr>\n",
       "      <th>2657</th>\n",
       "      <td>Harper Lee</td>\n",
       "      <td>To Kill a Mockingbird</td>\n",
       "      <td>1960</td>\n",
       "    </tr>\n",
       "    <tr>\n",
       "      <th>4671</th>\n",
       "      <td>F. Scott Fitzgerald</td>\n",
       "      <td>The Great Gatsby</td>\n",
       "      <td>1925</td>\n",
       "    </tr>\n",
       "  </tbody>\n",
       "</table>\n",
       "</div>"
      ],
      "text/plain": [
       "                             Authors  \\\n",
       "ID                                     \n",
       "2767052              Suzanne Collins   \n",
       "3        J.K. Rowling, Mary GrandPré   \n",
       "41865                Stephenie Meyer   \n",
       "2657                      Harper Lee   \n",
       "4671             F. Scott Fitzgerald   \n",
       "\n",
       "                                                Book_Title  Published_Year  \n",
       "ID                                                                          \n",
       "2767052            The Hunger Games (The Hunger Games, #1)            2008  \n",
       "3        Harry Potter and the Sorcerer's Stone (Harry P...            1997  \n",
       "41865                              Twilight (Twilight, #1)            2005  \n",
       "2657                                 To Kill a Mockingbird            1960  \n",
       "4671                                      The Great Gatsby            1925  "
      ]
     },
     "execution_count": 41,
     "metadata": {},
     "output_type": "execute_result"
    }
   ],
   "source": [
    "books_df[\"Published_Year\"]=books_df[\"Published_Year\"].astype(int)\n",
    "books_df.head()"
   ]
  },
  {
   "cell_type": "markdown",
   "id": "8887a743",
   "metadata": {},
   "source": [
    "# Load Data to SQL"
   ]
  },
  {
   "cell_type": "code",
   "execution_count": 42,
   "id": "6daf9294",
   "metadata": {},
   "outputs": [],
   "source": [
    "#Create database connection \n",
    "connection_string = \"postgres:bootcamp@localhost:5432/Netflix_IMDB\"\n",
    "engine = create_engine(f'postgresql://{connection_string}')"
   ]
  },
  {
   "cell_type": "code",
   "execution_count": 43,
   "id": "11755218",
   "metadata": {},
   "outputs": [],
   "source": [
    "netflix_movie_date.to_sql(name='netflix_movie_date', con=engine, if_exists='replace', index=True)"
   ]
  },
  {
   "cell_type": "code",
   "execution_count": 44,
   "id": "35ac12b9",
   "metadata": {},
   "outputs": [],
   "source": [
    "netflix_movie_basic.to_sql(name='netflix_movie_basic', con=engine, if_exists='replace', index=True)"
   ]
  },
  {
   "cell_type": "code",
   "execution_count": 45,
   "id": "d75b79a6",
   "metadata": {},
   "outputs": [],
   "source": [
    "rotten_tomatoes_movies_rating.to_sql(name='rotten_tomatoes_movies_rating', con=engine, if_exists='replace', index=True)"
   ]
  },
  {
   "cell_type": "code",
   "execution_count": 46,
   "id": "d0719f21",
   "metadata": {},
   "outputs": [],
   "source": [
    "imdb_ratings_data_df.to_sql(name='imdb_ratings', con=engine, if_exists='replace', index=True)"
   ]
  },
  {
   "cell_type": "code",
   "execution_count": 47,
   "id": "6f51575a",
   "metadata": {},
   "outputs": [],
   "source": [
    "movies_df.to_sql(name=\"imdb_movies\", con=engine, if_exists=\"replace\", index=True)"
   ]
  },
  {
   "cell_type": "code",
   "execution_count": 48,
   "id": "535517dd",
   "metadata": {},
   "outputs": [],
   "source": [
    "books_df.to_sql(name=\"books\", con=engine, if_exists= \"replace\", index=True)"
   ]
  },
  {
   "cell_type": "code",
   "execution_count": null,
   "id": "32ffa318",
   "metadata": {},
   "outputs": [],
   "source": []
  }
 ],
 "metadata": {
  "kernelspec": {
   "display_name": "Python 3",
   "language": "python",
   "name": "python3"
  },
  "language_info": {
   "codemirror_mode": {
    "name": "ipython",
    "version": 3
   },
   "file_extension": ".py",
   "mimetype": "text/x-python",
   "name": "python",
   "nbconvert_exporter": "python",
   "pygments_lexer": "ipython3",
   "version": "3.8.8"
  }
 },
 "nbformat": 4,
 "nbformat_minor": 5
}
