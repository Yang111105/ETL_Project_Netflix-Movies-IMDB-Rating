{
 "cells": [
  {
   "cell_type": "markdown",
   "id": "0f96bc9e",
   "metadata": {},
   "source": [
    "# Netflix Movies, IMDB and Rotten Tomatoes Rating, Good Books ETL\n",
    "A lot of people check IMDB or Rotten Tomatoes score for a movie before watching it on Netflix. Although Netflix has a good recommender system, it still can be hard to use for people to determine how good a movie is. The exercise collected Netflix movies data along with IMDB and Rotten Tomatoes rating data, cleaned them and loaded them into a SQL database, so further analysis can be performed to identify top rated movies on Netflix based on IMDB and Rotten Tomatoes ratings. The database also included a 10k good books list to identify which movies were produced from popular books.\n"
   ]
  },
  {
   "cell_type": "code",
   "execution_count": null,
   "id": "0b156492",
   "metadata": {},
   "outputs": [],
   "source": [
    "import pandas as pd\n",
    "import datetime\n",
    "import warnings\n",
    "warnings.filterwarnings(\"ignore\")\n",
    "from sqlalchemy import create_engine"
   ]
  },
  {
   "cell_type": "markdown",
   "id": "c791e132",
   "metadata": {},
   "source": [
    "# Data Extract"
   ]
  },
  {
   "cell_type": "markdown",
   "id": "0c9abfe0",
   "metadata": {},
   "source": [
    "### Import CSV files from resource folder\n",
    "Data Source:\n",
    "1.\thttps://www.kaggle.com/shivamb/netflix-shows?select=netflix_titles.csv\n",
    "2.\thttps://www.kaggle.com/stefanoleone992/imdb-extensive-dataset\n",
    "3.\thttps://www.kaggle.com/stefanoleone992/rotten-tomatoes-movies-and-critic-reviews-dataset?select=rotten_tomatoes_movies.csv\n",
    "4.\thttps://www.kaggle.com/zygmunt/goodbooks-10k?select=books.csv"
   ]
  },
  {
   "cell_type": "code",
   "execution_count": null,
   "id": "3d6c9ec3",
   "metadata": {},
   "outputs": [],
   "source": [
    "netflix_all = pd.read_csv('Resources/netflix_titles.csv')\n",
    "netflix_all.head()"
   ]
  },
  {
   "cell_type": "code",
   "execution_count": null,
   "id": "9c091af6",
   "metadata": {},
   "outputs": [],
   "source": [
    "rotten_tomatoes_movies = pd.read_csv('Resources/rotten_tomatoes_movies.csv')\n",
    "rotten_tomatoes_movies.head(2)"
   ]
  },
  {
   "cell_type": "code",
   "execution_count": null,
   "id": "9a92cc44",
   "metadata": {},
   "outputs": [],
   "source": [
    "csv_file = \"Resources/IMDb ratings.csv\"\n",
    "ratings_data_df = pd.read_csv(csv_file)\n",
    "ratings_data_df.head()"
   ]
  },
  {
   "cell_type": "code",
   "execution_count": null,
   "id": "8b8efb78",
   "metadata": {},
   "outputs": [],
   "source": [
    "movies_file =\"Resources/IMDb movies.csv\"\n",
    "movies_data_df = pd.read_csv(movies_file)\n",
    "movies_data_df.head(2)"
   ]
  },
  {
   "cell_type": "code",
   "execution_count": null,
   "id": "773af4fe",
   "metadata": {},
   "outputs": [],
   "source": [
    "books_file =\"Resources/books.csv\"\n",
    "books_data_df = pd.read_csv(books_file)\n",
    "books_data_df.head()"
   ]
  },
  {
   "cell_type": "markdown",
   "id": "31fd4733",
   "metadata": {},
   "source": [
    "# Data Transformation "
   ]
  },
  {
   "cell_type": "markdown",
   "id": "fbedf2e6",
   "metadata": {},
   "source": [
    "### Netflix Data File Transformation: \n",
    "1. Checked the data types - Changed \"date_added\" to datetime format\n",
    "2. Filtered out movies from all show types by loc function\n",
    "3. Renamed, organized and split the data into two tables:\n",
    "    - Netflix Movie Basic Columns: netflix_show_id,title,country,rating,duration,description\n",
    "    - Netflix Movie Date Columns: netflix_show_id,date_added,release_year\n",
    "4. Checked and handled missing values for each new table:\n",
    "    - Replaced 230 missing \"country\" values to \"other\"\n",
    "    - Replaced 5 missing \"rating\" values to \"NR\""
   ]
  },
  {
   "cell_type": "code",
   "execution_count": null,
   "id": "84f9c95c",
   "metadata": {},
   "outputs": [],
   "source": [
    "netflix_all.dtypes"
   ]
  },
  {
   "cell_type": "code",
   "execution_count": null,
   "id": "8d9471c7",
   "metadata": {},
   "outputs": [],
   "source": [
    "# Change value type tpo datetime\n",
    "netflix_all['date_added'] =pd.to_datetime(netflix_all.date_added)\n",
    "\n",
    "#Check overall missing values\n",
    "netflix_all.isnull().sum()"
   ]
  },
  {
   "cell_type": "code",
   "execution_count": null,
   "id": "94f38ce0",
   "metadata": {},
   "outputs": [],
   "source": [
    "# Filter out Movies on Netflix\n",
    "netflix_movie = netflix_all.loc[netflix_all.type=='Movie']\n",
    "netflix_movie.shape"
   ]
  },
  {
   "cell_type": "code",
   "execution_count": null,
   "id": "92006f5a",
   "metadata": {},
   "outputs": [],
   "source": [
    "# Rename show id column for database consistency\n",
    "netflix_movie = netflix_movie.rename(columns={'show_id':'netflix_show_id'})"
   ]
  },
  {
   "cell_type": "code",
   "execution_count": null,
   "id": "2e12f294",
   "metadata": {},
   "outputs": [],
   "source": [
    "# Select and split dataframe into two tables by content\n",
    "netflix_movie_basic = netflix_movie [[ 'netflix_show_id','title','country','rating','duration','description']]\n",
    "netflix_movie_basic.isnull().sum()"
   ]
  },
  {
   "cell_type": "code",
   "execution_count": null,
   "id": "ceaf2486",
   "metadata": {},
   "outputs": [],
   "source": [
    "netflix_movie_basic.rating.value_counts()"
   ]
  },
  {
   "cell_type": "code",
   "execution_count": null,
   "id": "8ee64e7c",
   "metadata": {},
   "outputs": [],
   "source": [
    "# Change the countries from Na to \"other\"; 5 missing ratings to \"NR\"\n",
    "netflix_movie_basic['country'] =netflix_movie_basic['country'].fillna('other')\n",
    "netflix_movie_basic['rating'] =netflix_movie_basic['rating'].fillna('NR')"
   ]
  },
  {
   "cell_type": "code",
   "execution_count": null,
   "id": "d3b90b49",
   "metadata": {},
   "outputs": [],
   "source": [
    "netflix_movie_basic.isnull().sum()"
   ]
  },
  {
   "cell_type": "code",
   "execution_count": null,
   "id": "f763cb5e",
   "metadata": {},
   "outputs": [],
   "source": [
    "netflix_movie_basic.set_index(\"netflix_show_id\", inplace=True)\n",
    "netflix_movie_basic.head()"
   ]
  },
  {
   "cell_type": "code",
   "execution_count": null,
   "id": "90099691",
   "metadata": {},
   "outputs": [],
   "source": [
    "netflix_movie_date = netflix_movie [[ 'netflix_show_id','date_added','release_year']]\n",
    "netflix_movie_date.isnull().sum()"
   ]
  },
  {
   "cell_type": "code",
   "execution_count": null,
   "id": "c1d3cf8e",
   "metadata": {},
   "outputs": [],
   "source": [
    "# set id as index for PK\n",
    "netflix_movie_date.set_index(\"netflix_show_id\", inplace=True)\n",
    "netflix_movie_date.head()"
   ]
  },
  {
   "cell_type": "markdown",
   "id": "4e033da1",
   "metadata": {},
   "source": [
    "### Rotten Tomatoes Movies Data File Transformation:\n",
    "\n",
    "1. Checked the data types\n",
    "2. Selected columns and kept \"title\", \"rating\" and \"counts\" only\n",
    "3. Renamed \"id\" and \"title\" columns for label consistency within the database\n",
    "4. Checked missing values and dropped 200+ NA rows related to \"voting\" columns only"
   ]
  },
  {
   "cell_type": "code",
   "execution_count": null,
   "id": "5ba2c4a8",
   "metadata": {},
   "outputs": [],
   "source": [
    "# Rename show id and title columns for database consistency\n",
    "rotten_tomatoes_movies = rotten_tomatoes_movies.rename(columns={'rotten_tomatoes_link':'rotten_tomatoes_id','movie_title':'title'})\n",
    "rotten_tomatoes_movies.shape"
   ]
  },
  {
   "cell_type": "code",
   "execution_count": null,
   "id": "f25e27ac",
   "metadata": {},
   "outputs": [],
   "source": [
    "rotten_tomatoes_movies.dtypes"
   ]
  },
  {
   "cell_type": "code",
   "execution_count": null,
   "id": "e54dce94",
   "metadata": {},
   "outputs": [],
   "source": [
    "# Check overall missing values\n",
    "rotten_tomatoes_movies.isnull().sum()"
   ]
  },
  {
   "cell_type": "code",
   "execution_count": null,
   "id": "a6742c0a",
   "metadata": {},
   "outputs": [],
   "source": [
    "# Drop null values for selected rating columns only. Fill null values for \"audience status\" as \"other\"\n",
    "rotten_tomatoes_movies_clean = rotten_tomatoes_movies.dropna(subset = ['tomatometer_rating', 'audience_count'])\n",
    "rotten_tomatoes_movies_clean['audience_status'] =rotten_tomatoes_movies_clean['audience_status'].fillna('other')"
   ]
  },
  {
   "cell_type": "code",
   "execution_count": null,
   "id": "48c0dffb",
   "metadata": {},
   "outputs": [],
   "source": [
    "# Select rating related columns as new dataframe and set id as index for PK\n",
    "rotten_tomatoes_movies_rating = rotten_tomatoes_movies_clean[['rotten_tomatoes_id','title','tomatometer_status','tomatometer_rating','tomatometer_count','audience_status','audience_rating','audience_count']]\n",
    "rotten_tomatoes_movies_rating.set_index(\"rotten_tomatoes_id\", inplace=True)\n",
    "rotten_tomatoes_movies_rating.head(2)"
   ]
  },
  {
   "cell_type": "markdown",
   "id": "da5f43b1",
   "metadata": {},
   "source": [
    "### IMDB Movie Data Transformation:\n",
    "1. Created a new dataFrame by selecting and renaming \"id\" and \"title\" columns for database consistency\n",
    "3. Set ID as index for PK"
   ]
  },
  {
   "cell_type": "code",
   "execution_count": null,
   "id": "96157776",
   "metadata": {},
   "outputs": [],
   "source": [
    "#Checking columns names\n",
    "movies_data_df.columns"
   ]
  },
  {
   "cell_type": "code",
   "execution_count": null,
   "id": "f88f03cd",
   "metadata": {},
   "outputs": [],
   "source": [
    "movies_data_df.isnull().sum()"
   ]
  },
  {
   "cell_type": "code",
   "execution_count": null,
   "id": "3dc5cfe3",
   "metadata": {},
   "outputs": [],
   "source": [
    "movies_df = movies_data_df[[\"imdb_title_id\", \"title\"]].copy()\n",
    "movies_df.head()"
   ]
  },
  {
   "cell_type": "code",
   "execution_count": null,
   "id": "ea7a5763",
   "metadata": {},
   "outputs": [],
   "source": [
    "movies_df.info()"
   ]
  },
  {
   "cell_type": "code",
   "execution_count": null,
   "id": "8682cc41",
   "metadata": {},
   "outputs": [],
   "source": [
    "movies_df['title'].value_counts()\n",
    "movies_df.drop_duplicates(\"title\", inplace=True)"
   ]
  },
  {
   "cell_type": "code",
   "execution_count": null,
   "id": "27c57d48",
   "metadata": {},
   "outputs": [],
   "source": [
    "movies_df['title'].value_counts()"
   ]
  },
  {
   "cell_type": "code",
   "execution_count": null,
   "id": "f572e142",
   "metadata": {},
   "outputs": [],
   "source": [
    "# movies_df[\"movie_title\"]=movies_df[\"movie_title\"].fillna(\"unknown\")\n",
    "# unknown = movies_df.loc[movies_df[\"movie_title\"]==\"unknown\"]\n",
    "# unknown.count()\n",
    "movies_df = movies_df.rename(columns= {\"imdb_title_id\":\"id\", \"title\":\"movie_title\"})\n",
    "movies_df.set_index(\"id\", inplace = True)\n",
    "movies_df.head()"
   ]
  },
  {
   "cell_type": "markdown",
   "id": "33b33c40",
   "metadata": {},
   "source": [
    "### IMDB Data Rating File Transformation:\n",
    "1. Removed irrelevant columns and reorganized the votes by gender regardless of age\n",
    "2. The \"mean_vote\" and \"median_vote\" columns were also removed due to redundancy\n",
    "3. The \"total_votes\" and \"weighted_average_vote\" columns were re-ordered for better clarity "
   ]
  },
  {
   "cell_type": "code",
   "execution_count": null,
   "id": "4caf688c",
   "metadata": {},
   "outputs": [],
   "source": [
    "# Keep rating related columns only\n",
    "imdb_ratings_data_df = ratings_data_df[['imdb_title_id', 'total_votes', 'weighted_average_vote', 'males_allages_avg_vote', 'males_allages_votes', 'females_allages_avg_vote', 'females_allages_votes']].copy()"
   ]
  },
  {
   "cell_type": "code",
   "execution_count": null,
   "id": "9a85a261",
   "metadata": {},
   "outputs": [],
   "source": [
    "# Set id as index as PK\n",
    "imdb_ratings_data_df.set_index (\"imdb_title_id\", inplace = True)"
   ]
  },
  {
   "cell_type": "code",
   "execution_count": null,
   "id": "cd688be6",
   "metadata": {},
   "outputs": [],
   "source": [
    "# FOr this excercise we focus on total votes and weighted average votes\n",
    "imdb_ratings_data_df.isnull().sum()"
   ]
  },
  {
   "cell_type": "markdown",
   "id": "b6528ae3",
   "metadata": {},
   "source": [
    "### Books File Transformation\n",
    "\n",
    "1. Created a book dataframe with selecting \"title\", \"authors\" and \"publication year\" columns\n",
    "2. Dropped duplicate books by \"title\"\n",
    "3. Checked and handled 20 missing values in \"original_publication_year\"\n",
    "4. Renamed columns for clarification\n",
    "5. Set ID as index for PK"
   ]
  },
  {
   "cell_type": "code",
   "execution_count": null,
   "id": "ce2f668d",
   "metadata": {},
   "outputs": [],
   "source": [
    "books_data_df.columns"
   ]
  },
  {
   "cell_type": "code",
   "execution_count": null,
   "id": "e1435067",
   "metadata": {},
   "outputs": [],
   "source": [
    "books_data_df.info()"
   ]
  },
  {
   "cell_type": "code",
   "execution_count": null,
   "id": "a79687f5",
   "metadata": {},
   "outputs": [],
   "source": [
    "books_data_df.isnull().sum()"
   ]
  },
  {
   "cell_type": "code",
   "execution_count": null,
   "id": "65fd1caf",
   "metadata": {},
   "outputs": [],
   "source": [
    "books_df = books_data_df[[\"book_id\", \"authors\", \"title\", \"original_publication_year\"]].copy()\n",
    "books_df.head()"
   ]
  },
  {
   "cell_type": "code",
   "execution_count": null,
   "id": "262c37b9",
   "metadata": {},
   "outputs": [],
   "source": [
    "books_df[\"original_publication_year\"]=books_df[\"original_publication_year\"].fillna(0)\n",
    "books_df.isnull().sum()"
   ]
  },
  {
   "cell_type": "code",
   "execution_count": null,
   "id": "b69c2fd1",
   "metadata": {},
   "outputs": [],
   "source": [
    "books_df.title.value_counts()"
   ]
  },
  {
   "cell_type": "code",
   "execution_count": null,
   "id": "5ce18a18",
   "metadata": {},
   "outputs": [],
   "source": [
    "books_df.drop_duplicates([\"title\"], inplace=True)\n",
    "books_df.title.value_counts()"
   ]
  },
  {
   "cell_type": "code",
   "execution_count": null,
   "id": "a0539997",
   "metadata": {},
   "outputs": [],
   "source": [
    "books_df = books_df.rename(columns= {\"book_id\":\"ID\", \"authors\":\"Authors\", \"title\":\"Book_Title\", \"original_publication_year\":\"Published_Year\"})\n",
    "books_df.set_index(\"ID\", inplace = True)\n",
    "books_df.head()"
   ]
  },
  {
   "cell_type": "code",
   "execution_count": null,
   "id": "93ca2f44",
   "metadata": {},
   "outputs": [],
   "source": [
    "books_df[\"Published_Year\"]=books_df[\"Published_Year\"].astype(int)\n",
    "books_df.dtypes"
   ]
  },
  {
   "cell_type": "markdown",
   "id": "8887a743",
   "metadata": {},
   "source": [
    "# Load Data to SQL"
   ]
  },
  {
   "cell_type": "markdown",
   "id": "31fe8fd9",
   "metadata": {},
   "source": [
    "Create database connection to SQL and pushed all tranformed tables into SQL database \"Netflix_IMDB\""
   ]
  },
  {
   "cell_type": "code",
   "execution_count": null,
   "id": "6daf9294",
   "metadata": {},
   "outputs": [],
   "source": [
    "#Create database connection \n",
    "connection_string = \"postgres:bootcamp@localhost:5432/Netflix_IMDB\"\n",
    "engine = create_engine(f'postgresql://{connection_string}')"
   ]
  },
  {
   "cell_type": "code",
   "execution_count": null,
   "id": "11755218",
   "metadata": {},
   "outputs": [],
   "source": [
    "# Load all tables into SQL database\n",
    "netflix_movie_date.to_sql(name='netflix_movie_date', con=engine, if_exists='replace', index=True)"
   ]
  },
  {
   "cell_type": "code",
   "execution_count": null,
   "id": "35ac12b9",
   "metadata": {},
   "outputs": [],
   "source": [
    "netflix_movie_basic.to_sql(name='netflix_movie_basic', con=engine, if_exists='replace', index=True)"
   ]
  },
  {
   "cell_type": "code",
   "execution_count": null,
   "id": "d75b79a6",
   "metadata": {},
   "outputs": [],
   "source": [
    "rotten_tomatoes_movies_rating.to_sql(name='rotten_tomatoes_movies_rating', con=engine, if_exists='replace', index=True)"
   ]
  },
  {
   "cell_type": "code",
   "execution_count": null,
   "id": "7350f43e",
   "metadata": {},
   "outputs": [],
   "source": [
    "imdb_ratings_data_df.to_sql(name='imdb_ratings', con=engine, if_exists='replace', index=True)"
   ]
  },
  {
   "cell_type": "code",
   "execution_count": null,
   "id": "8128e0bf",
   "metadata": {},
   "outputs": [],
   "source": [
    "movies_df.to_sql(name=\"imdb_movies\", con=engine, if_exists=\"replace\", index=True)"
   ]
  },
  {
   "cell_type": "code",
   "execution_count": null,
   "id": "12f494dd",
   "metadata": {},
   "outputs": [],
   "source": [
    "books_df.to_sql(name=\"books\", con=engine, if_exists= \"replace\", index=True)"
   ]
  },
  {
   "cell_type": "markdown",
   "id": "b073ef7b",
   "metadata": {},
   "source": [
    "# Confirm Data Loaded"
   ]
  },
  {
   "cell_type": "code",
   "execution_count": null,
   "id": "6d8a52f6",
   "metadata": {},
   "outputs": [],
   "source": [
    "pd.read_sql_query(\"select * from netflix_movie_date\", con=engine).head()"
   ]
  },
  {
   "cell_type": "code",
   "execution_count": null,
   "id": "f3035443",
   "metadata": {},
   "outputs": [],
   "source": [
    "pd.read_sql_query(\"select * from netflix_movie_basic\", con=engine).head()"
   ]
  },
  {
   "cell_type": "code",
   "execution_count": null,
   "id": "df97b080",
   "metadata": {},
   "outputs": [],
   "source": [
    "pd.read_sql_query(\"select * from rotten_tomatoes_movies_rating\", con=engine).head()"
   ]
  },
  {
   "cell_type": "code",
   "execution_count": null,
   "id": "544c0697",
   "metadata": {},
   "outputs": [],
   "source": [
    "pd.read_sql_query(\"select * from imdb_ratings\", con=engine).head()"
   ]
  },
  {
   "cell_type": "code",
   "execution_count": null,
   "id": "7e124bf0",
   "metadata": {},
   "outputs": [],
   "source": [
    "pd.read_sql_query(\"select * from imdb_movies\", con=engine).head()"
   ]
  },
  {
   "cell_type": "code",
   "execution_count": null,
   "id": "c2056abd",
   "metadata": {},
   "outputs": [],
   "source": [
    "pd.read_sql_query(\"select * from imdb_movies\", con=engine).head()"
   ]
  }
 ],
 "metadata": {
  "kernelspec": {
   "display_name": "Python 3",
   "language": "python",
   "name": "python3"
  },
  "language_info": {
   "codemirror_mode": {
    "name": "ipython",
    "version": 3
   },
   "file_extension": ".py",
   "mimetype": "text/x-python",
   "name": "python",
   "nbconvert_exporter": "python",
   "pygments_lexer": "ipython3",
   "version": "3.8.8"
  }
 },
 "nbformat": 4,
 "nbformat_minor": 5
}
