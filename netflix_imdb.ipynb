{
 "cells": [
  {
   "cell_type": "code",
   "execution_count": 1,
   "id": "fd070918",
   "metadata": {},
   "outputs": [],
   "source": [
    "import pandas as pd\n",
    "from sqlalchemy import create_engine"
   ]
  },
  {
   "cell_type": "code",
   "execution_count": 2,
   "id": "37966b85",
   "metadata": {},
   "outputs": [],
   "source": [
    "###Store CSV into DataFrame\n",
    "#Data has been taken from Kaggle in csv files. "
   ]
  },
  {
   "cell_type": "code",
   "execution_count": 3,
   "id": "b74a5936",
   "metadata": {},
   "outputs": [],
   "source": [
    "movies_file =\"Resources/IMDb movies.csv\"\n",
    "books_file =\"Resources/books.csv\""
   ]
  },
  {
   "cell_type": "code",
   "execution_count": 4,
   "id": "4f748b56",
   "metadata": {},
   "outputs": [],
   "source": [
    "###Transform files to DataFrame\n",
    "#Read csv files by pandas, create a proper DataFrame by renaming, dropping duplicate datas, choosing columns needed, and setting index."
   ]
  },
  {
   "cell_type": "code",
   "execution_count": 5,
   "id": "53b626a1",
   "metadata": {
    "scrolled": true
   },
   "outputs": [
    {
     "name": "stderr",
     "output_type": "stream",
     "text": [
      "/Users/aysinyavuz/opt/anaconda3/envs/PythonData38/lib/python3.8/site-packages/IPython/core/interactiveshell.py:3165: DtypeWarning: Columns (3) have mixed types.Specify dtype option on import or set low_memory=False.\n",
      "  has_raised = await self.run_ast_nodes(code_ast.body, cell_name,\n"
     ]
    }
   ],
   "source": [
    "movies_data_df = pd.read_csv(movies_file)\n",
    "#movies_data_df.head()"
   ]
  },
  {
   "cell_type": "code",
   "execution_count": 6,
   "id": "c0418224",
   "metadata": {},
   "outputs": [
    {
     "data": {
      "text/plain": [
       "Index(['imdb_title_id', 'title', 'original_title', 'year', 'date_published',\n",
       "       'genre', 'duration', 'country', 'language', 'director', 'writer',\n",
       "       'production_company', 'actors', 'description', 'avg_vote', 'votes',\n",
       "       'budget', 'usa_gross_income', 'worlwide_gross_income', 'metascore',\n",
       "       'reviews_from_users', 'reviews_from_critics'],\n",
       "      dtype='object')"
      ]
     },
     "execution_count": 6,
     "metadata": {},
     "output_type": "execute_result"
    }
   ],
   "source": [
    "#Checking columns names\n",
    "movies_data_df.columns"
   ]
  },
  {
   "cell_type": "code",
   "execution_count": 7,
   "id": "5695c1f5",
   "metadata": {},
   "outputs": [
    {
     "data": {
      "text/html": [
       "<div>\n",
       "<style scoped>\n",
       "    .dataframe tbody tr th:only-of-type {\n",
       "        vertical-align: middle;\n",
       "    }\n",
       "\n",
       "    .dataframe tbody tr th {\n",
       "        vertical-align: top;\n",
       "    }\n",
       "\n",
       "    .dataframe thead th {\n",
       "        text-align: right;\n",
       "    }\n",
       "</style>\n",
       "<table border=\"1\" class=\"dataframe\">\n",
       "  <thead>\n",
       "    <tr style=\"text-align: right;\">\n",
       "      <th></th>\n",
       "      <th>imdb_title_id</th>\n",
       "      <th>title</th>\n",
       "    </tr>\n",
       "  </thead>\n",
       "  <tbody>\n",
       "    <tr>\n",
       "      <th>0</th>\n",
       "      <td>tt0000009</td>\n",
       "      <td>Miss Jerry</td>\n",
       "    </tr>\n",
       "    <tr>\n",
       "      <th>1</th>\n",
       "      <td>tt0000574</td>\n",
       "      <td>The Story of the Kelly Gang</td>\n",
       "    </tr>\n",
       "    <tr>\n",
       "      <th>2</th>\n",
       "      <td>tt0001892</td>\n",
       "      <td>Den sorte drøm</td>\n",
       "    </tr>\n",
       "    <tr>\n",
       "      <th>3</th>\n",
       "      <td>tt0002101</td>\n",
       "      <td>Cleopatra</td>\n",
       "    </tr>\n",
       "    <tr>\n",
       "      <th>4</th>\n",
       "      <td>tt0002130</td>\n",
       "      <td>L'Inferno</td>\n",
       "    </tr>\n",
       "  </tbody>\n",
       "</table>\n",
       "</div>"
      ],
      "text/plain": [
       "  imdb_title_id                        title\n",
       "0     tt0000009                   Miss Jerry\n",
       "1     tt0000574  The Story of the Kelly Gang\n",
       "2     tt0001892               Den sorte drøm\n",
       "3     tt0002101                    Cleopatra\n",
       "4     tt0002130                    L'Inferno"
      ]
     },
     "execution_count": 7,
     "metadata": {},
     "output_type": "execute_result"
    }
   ],
   "source": [
    "movies_df = movies_data_df[[\"imdb_title_id\", \"title\"]].copy()\n",
    "movies_df.head()"
   ]
  },
  {
   "cell_type": "code",
   "execution_count": 8,
   "id": "57349c72",
   "metadata": {},
   "outputs": [
    {
     "data": {
      "text/plain": [
       "imdb_title_id    85855\n",
       "title            85855\n",
       "dtype: int64"
      ]
     },
     "execution_count": 8,
     "metadata": {},
     "output_type": "execute_result"
    }
   ],
   "source": [
    "movies_df.count()"
   ]
  },
  {
   "cell_type": "code",
   "execution_count": 9,
   "id": "49c969d2",
   "metadata": {},
   "outputs": [
    {
     "data": {
      "text/plain": [
       "imdb_title_id    82094\n",
       "title            82094\n",
       "dtype: int64"
      ]
     },
     "execution_count": 9,
     "metadata": {},
     "output_type": "execute_result"
    }
   ],
   "source": [
    "movies_df.drop_duplicates(\"title\", inplace=True)\n",
    "movies_df.count()"
   ]
  },
  {
   "cell_type": "code",
   "execution_count": 10,
   "id": "f517da15",
   "metadata": {},
   "outputs": [],
   "source": [
    "# movies_df[\"movie_title\"]=movies_df[\"movie_title\"].fillna(\"unknown\")\n",
    "# unknown = movies_df.loc[movies_df[\"movie_title\"]==\"unknown\"]\n",
    "# unknown.count()"
   ]
  },
  {
   "cell_type": "code",
   "execution_count": 11,
   "id": "cfa209d0",
   "metadata": {
    "scrolled": true
   },
   "outputs": [
    {
     "data": {
      "text/html": [
       "<div>\n",
       "<style scoped>\n",
       "    .dataframe tbody tr th:only-of-type {\n",
       "        vertical-align: middle;\n",
       "    }\n",
       "\n",
       "    .dataframe tbody tr th {\n",
       "        vertical-align: top;\n",
       "    }\n",
       "\n",
       "    .dataframe thead th {\n",
       "        text-align: right;\n",
       "    }\n",
       "</style>\n",
       "<table border=\"1\" class=\"dataframe\">\n",
       "  <thead>\n",
       "    <tr style=\"text-align: right;\">\n",
       "      <th></th>\n",
       "      <th>movie_title</th>\n",
       "    </tr>\n",
       "    <tr>\n",
       "      <th>id</th>\n",
       "      <th></th>\n",
       "    </tr>\n",
       "  </thead>\n",
       "  <tbody>\n",
       "    <tr>\n",
       "      <th>tt0000009</th>\n",
       "      <td>Miss Jerry</td>\n",
       "    </tr>\n",
       "    <tr>\n",
       "      <th>tt0000574</th>\n",
       "      <td>The Story of the Kelly Gang</td>\n",
       "    </tr>\n",
       "    <tr>\n",
       "      <th>tt0001892</th>\n",
       "      <td>Den sorte drøm</td>\n",
       "    </tr>\n",
       "    <tr>\n",
       "      <th>tt0002101</th>\n",
       "      <td>Cleopatra</td>\n",
       "    </tr>\n",
       "    <tr>\n",
       "      <th>tt0002130</th>\n",
       "      <td>L'Inferno</td>\n",
       "    </tr>\n",
       "  </tbody>\n",
       "</table>\n",
       "</div>"
      ],
      "text/plain": [
       "                           movie_title\n",
       "id                                    \n",
       "tt0000009                   Miss Jerry\n",
       "tt0000574  The Story of the Kelly Gang\n",
       "tt0001892               Den sorte drøm\n",
       "tt0002101                    Cleopatra\n",
       "tt0002130                    L'Inferno"
      ]
     },
     "execution_count": 11,
     "metadata": {},
     "output_type": "execute_result"
    }
   ],
   "source": [
    "movies_df = movies_df.rename(columns= {\"imdb_title_id\":\"id\", \"title\":\"movie_title\"})\n",
    "movies_df.set_index(\"id\", inplace = True)\n",
    "movies_df.head()"
   ]
  },
  {
   "cell_type": "code",
   "execution_count": 12,
   "id": "4073041a",
   "metadata": {},
   "outputs": [],
   "source": [
    "###Transform books_file to DataFrame\n",
    "# Create a proper DataFrame by renaming, dropping duplicate datas, choosing columns needed, and setting index."
   ]
  },
  {
   "cell_type": "code",
   "execution_count": 13,
   "id": "619f5838",
   "metadata": {},
   "outputs": [],
   "source": [
    "books_data_df = pd.read_csv(books_file)\n",
    "#books_data_df.head()"
   ]
  },
  {
   "cell_type": "code",
   "execution_count": 14,
   "id": "bf1a0099",
   "metadata": {},
   "outputs": [
    {
     "data": {
      "text/plain": [
       "Index(['id', 'book_id', 'best_book_id', 'work_id', 'books_count', 'isbn',\n",
       "       'isbn13', 'authors', 'original_publication_year', 'original_title',\n",
       "       'title', 'language_code', 'average_rating', 'ratings_count',\n",
       "       'work_ratings_count', 'work_text_reviews_count', 'ratings_1',\n",
       "       'ratings_2', 'ratings_3', 'ratings_4', 'ratings_5', 'image_url',\n",
       "       'small_image_url'],\n",
       "      dtype='object')"
      ]
     },
     "execution_count": 14,
     "metadata": {},
     "output_type": "execute_result"
    }
   ],
   "source": [
    "books_data_df.columns"
   ]
  },
  {
   "cell_type": "code",
   "execution_count": 15,
   "id": "96d1261b",
   "metadata": {},
   "outputs": [
    {
     "data": {
      "text/html": [
       "<div>\n",
       "<style scoped>\n",
       "    .dataframe tbody tr th:only-of-type {\n",
       "        vertical-align: middle;\n",
       "    }\n",
       "\n",
       "    .dataframe tbody tr th {\n",
       "        vertical-align: top;\n",
       "    }\n",
       "\n",
       "    .dataframe thead th {\n",
       "        text-align: right;\n",
       "    }\n",
       "</style>\n",
       "<table border=\"1\" class=\"dataframe\">\n",
       "  <thead>\n",
       "    <tr style=\"text-align: right;\">\n",
       "      <th></th>\n",
       "      <th>book_id</th>\n",
       "      <th>authors</th>\n",
       "      <th>title</th>\n",
       "      <th>original_publication_year</th>\n",
       "    </tr>\n",
       "  </thead>\n",
       "  <tbody>\n",
       "    <tr>\n",
       "      <th>0</th>\n",
       "      <td>2767052</td>\n",
       "      <td>Suzanne Collins</td>\n",
       "      <td>The Hunger Games (The Hunger Games, #1)</td>\n",
       "      <td>2008.0</td>\n",
       "    </tr>\n",
       "    <tr>\n",
       "      <th>1</th>\n",
       "      <td>3</td>\n",
       "      <td>J.K. Rowling, Mary GrandPré</td>\n",
       "      <td>Harry Potter and the Sorcerer's Stone (Harry P...</td>\n",
       "      <td>1997.0</td>\n",
       "    </tr>\n",
       "    <tr>\n",
       "      <th>2</th>\n",
       "      <td>41865</td>\n",
       "      <td>Stephenie Meyer</td>\n",
       "      <td>Twilight (Twilight, #1)</td>\n",
       "      <td>2005.0</td>\n",
       "    </tr>\n",
       "    <tr>\n",
       "      <th>3</th>\n",
       "      <td>2657</td>\n",
       "      <td>Harper Lee</td>\n",
       "      <td>To Kill a Mockingbird</td>\n",
       "      <td>1960.0</td>\n",
       "    </tr>\n",
       "    <tr>\n",
       "      <th>4</th>\n",
       "      <td>4671</td>\n",
       "      <td>F. Scott Fitzgerald</td>\n",
       "      <td>The Great Gatsby</td>\n",
       "      <td>1925.0</td>\n",
       "    </tr>\n",
       "  </tbody>\n",
       "</table>\n",
       "</div>"
      ],
      "text/plain": [
       "   book_id                      authors  \\\n",
       "0  2767052              Suzanne Collins   \n",
       "1        3  J.K. Rowling, Mary GrandPré   \n",
       "2    41865              Stephenie Meyer   \n",
       "3     2657                   Harper Lee   \n",
       "4     4671          F. Scott Fitzgerald   \n",
       "\n",
       "                                               title  \\\n",
       "0            The Hunger Games (The Hunger Games, #1)   \n",
       "1  Harry Potter and the Sorcerer's Stone (Harry P...   \n",
       "2                            Twilight (Twilight, #1)   \n",
       "3                              To Kill a Mockingbird   \n",
       "4                                   The Great Gatsby   \n",
       "\n",
       "   original_publication_year  \n",
       "0                     2008.0  \n",
       "1                     1997.0  \n",
       "2                     2005.0  \n",
       "3                     1960.0  \n",
       "4                     1925.0  "
      ]
     },
     "execution_count": 15,
     "metadata": {},
     "output_type": "execute_result"
    }
   ],
   "source": [
    "books_df = books_data_df[[\"book_id\", \"authors\", \"title\", \"original_publication_year\"]].copy()\n",
    "books_df.head()"
   ]
  },
  {
   "cell_type": "code",
   "execution_count": 16,
   "id": "6d4f7e06",
   "metadata": {},
   "outputs": [
    {
     "data": {
      "text/plain": [
       "book_id                      9964\n",
       "authors                      9964\n",
       "title                        9964\n",
       "original_publication_year    9943\n",
       "dtype: int64"
      ]
     },
     "execution_count": 16,
     "metadata": {},
     "output_type": "execute_result"
    }
   ],
   "source": [
    "# book_df.count()\n",
    "books_df.drop_duplicates([\"title\"], inplace=True)\n",
    "books_df.count()"
   ]
  },
  {
   "cell_type": "code",
   "execution_count": 17,
   "id": "d94bcd7b",
   "metadata": {},
   "outputs": [
    {
     "data": {
      "text/plain": [
       "book_id                      9964\n",
       "authors                      9964\n",
       "title                        9964\n",
       "original_publication_year    9964\n",
       "dtype: int64"
      ]
     },
     "execution_count": 17,
     "metadata": {},
     "output_type": "execute_result"
    }
   ],
   "source": [
    "books_df[\"original_publication_year\"]=books_df[\"original_publication_year\"].fillna(0)\n",
    "books_df.count()"
   ]
  },
  {
   "cell_type": "code",
   "execution_count": 18,
   "id": "1be72cae",
   "metadata": {},
   "outputs": [
    {
     "data": {
      "text/html": [
       "<div>\n",
       "<style scoped>\n",
       "    .dataframe tbody tr th:only-of-type {\n",
       "        vertical-align: middle;\n",
       "    }\n",
       "\n",
       "    .dataframe tbody tr th {\n",
       "        vertical-align: top;\n",
       "    }\n",
       "\n",
       "    .dataframe thead th {\n",
       "        text-align: right;\n",
       "    }\n",
       "</style>\n",
       "<table border=\"1\" class=\"dataframe\">\n",
       "  <thead>\n",
       "    <tr style=\"text-align: right;\">\n",
       "      <th></th>\n",
       "      <th>Authors</th>\n",
       "      <th>Book_Title</th>\n",
       "      <th>Published_Year</th>\n",
       "    </tr>\n",
       "    <tr>\n",
       "      <th>ID</th>\n",
       "      <th></th>\n",
       "      <th></th>\n",
       "      <th></th>\n",
       "    </tr>\n",
       "  </thead>\n",
       "  <tbody>\n",
       "    <tr>\n",
       "      <th>2767052</th>\n",
       "      <td>Suzanne Collins</td>\n",
       "      <td>The Hunger Games (The Hunger Games, #1)</td>\n",
       "      <td>2008.0</td>\n",
       "    </tr>\n",
       "    <tr>\n",
       "      <th>3</th>\n",
       "      <td>J.K. Rowling, Mary GrandPré</td>\n",
       "      <td>Harry Potter and the Sorcerer's Stone (Harry P...</td>\n",
       "      <td>1997.0</td>\n",
       "    </tr>\n",
       "    <tr>\n",
       "      <th>41865</th>\n",
       "      <td>Stephenie Meyer</td>\n",
       "      <td>Twilight (Twilight, #1)</td>\n",
       "      <td>2005.0</td>\n",
       "    </tr>\n",
       "    <tr>\n",
       "      <th>2657</th>\n",
       "      <td>Harper Lee</td>\n",
       "      <td>To Kill a Mockingbird</td>\n",
       "      <td>1960.0</td>\n",
       "    </tr>\n",
       "    <tr>\n",
       "      <th>4671</th>\n",
       "      <td>F. Scott Fitzgerald</td>\n",
       "      <td>The Great Gatsby</td>\n",
       "      <td>1925.0</td>\n",
       "    </tr>\n",
       "  </tbody>\n",
       "</table>\n",
       "</div>"
      ],
      "text/plain": [
       "                             Authors  \\\n",
       "ID                                     \n",
       "2767052              Suzanne Collins   \n",
       "3        J.K. Rowling, Mary GrandPré   \n",
       "41865                Stephenie Meyer   \n",
       "2657                      Harper Lee   \n",
       "4671             F. Scott Fitzgerald   \n",
       "\n",
       "                                                Book_Title  Published_Year  \n",
       "ID                                                                          \n",
       "2767052            The Hunger Games (The Hunger Games, #1)          2008.0  \n",
       "3        Harry Potter and the Sorcerer's Stone (Harry P...          1997.0  \n",
       "41865                              Twilight (Twilight, #1)          2005.0  \n",
       "2657                                 To Kill a Mockingbird          1960.0  \n",
       "4671                                      The Great Gatsby          1925.0  "
      ]
     },
     "execution_count": 18,
     "metadata": {},
     "output_type": "execute_result"
    }
   ],
   "source": [
    "books_df = books_df.rename(columns= {\"book_id\":\"ID\", \"authors\":\"Authors\", \"title\":\"Book_Title\", \"original_publication_year\":\"Published_Year\"})\n",
    "books_df.set_index(\"ID\", inplace = True)\n",
    "books_df.head()"
   ]
  },
  {
   "cell_type": "code",
   "execution_count": 19,
   "id": "3665098b",
   "metadata": {},
   "outputs": [
    {
     "data": {
      "text/html": [
       "<div>\n",
       "<style scoped>\n",
       "    .dataframe tbody tr th:only-of-type {\n",
       "        vertical-align: middle;\n",
       "    }\n",
       "\n",
       "    .dataframe tbody tr th {\n",
       "        vertical-align: top;\n",
       "    }\n",
       "\n",
       "    .dataframe thead th {\n",
       "        text-align: right;\n",
       "    }\n",
       "</style>\n",
       "<table border=\"1\" class=\"dataframe\">\n",
       "  <thead>\n",
       "    <tr style=\"text-align: right;\">\n",
       "      <th></th>\n",
       "      <th>Authors</th>\n",
       "      <th>Book_Title</th>\n",
       "      <th>Published_Year</th>\n",
       "    </tr>\n",
       "    <tr>\n",
       "      <th>ID</th>\n",
       "      <th></th>\n",
       "      <th></th>\n",
       "      <th></th>\n",
       "    </tr>\n",
       "  </thead>\n",
       "  <tbody>\n",
       "    <tr>\n",
       "      <th>2767052</th>\n",
       "      <td>Suzanne Collins</td>\n",
       "      <td>The Hunger Games (The Hunger Games, #1)</td>\n",
       "      <td>2008</td>\n",
       "    </tr>\n",
       "    <tr>\n",
       "      <th>3</th>\n",
       "      <td>J.K. Rowling, Mary GrandPré</td>\n",
       "      <td>Harry Potter and the Sorcerer's Stone (Harry P...</td>\n",
       "      <td>1997</td>\n",
       "    </tr>\n",
       "    <tr>\n",
       "      <th>41865</th>\n",
       "      <td>Stephenie Meyer</td>\n",
       "      <td>Twilight (Twilight, #1)</td>\n",
       "      <td>2005</td>\n",
       "    </tr>\n",
       "    <tr>\n",
       "      <th>2657</th>\n",
       "      <td>Harper Lee</td>\n",
       "      <td>To Kill a Mockingbird</td>\n",
       "      <td>1960</td>\n",
       "    </tr>\n",
       "    <tr>\n",
       "      <th>4671</th>\n",
       "      <td>F. Scott Fitzgerald</td>\n",
       "      <td>The Great Gatsby</td>\n",
       "      <td>1925</td>\n",
       "    </tr>\n",
       "  </tbody>\n",
       "</table>\n",
       "</div>"
      ],
      "text/plain": [
       "                             Authors  \\\n",
       "ID                                     \n",
       "2767052              Suzanne Collins   \n",
       "3        J.K. Rowling, Mary GrandPré   \n",
       "41865                Stephenie Meyer   \n",
       "2657                      Harper Lee   \n",
       "4671             F. Scott Fitzgerald   \n",
       "\n",
       "                                                Book_Title  Published_Year  \n",
       "ID                                                                          \n",
       "2767052            The Hunger Games (The Hunger Games, #1)            2008  \n",
       "3        Harry Potter and the Sorcerer's Stone (Harry P...            1997  \n",
       "41865                              Twilight (Twilight, #1)            2005  \n",
       "2657                                 To Kill a Mockingbird            1960  \n",
       "4671                                      The Great Gatsby            1925  "
      ]
     },
     "execution_count": 19,
     "metadata": {},
     "output_type": "execute_result"
    }
   ],
   "source": [
    "books_df[\"Published_Year\"]=books_df[\"Published_Year\"].astype(int)\n",
    "books_df.head()"
   ]
  },
  {
   "cell_type": "code",
   "execution_count": 20,
   "id": "ce20a392",
   "metadata": {},
   "outputs": [],
   "source": [
    "###Create database connection\n",
    "#Create engine to connect sql"
   ]
  },
  {
   "cell_type": "code",
   "execution_count": 21,
   "id": "acf85f5e",
   "metadata": {},
   "outputs": [],
   "source": [
    "connection_string = \"postgres:bootcamp@localhost:5432/Netflix_IMDB\"\n",
    "engine=create_engine(f\"postgresql://{connection_string}\")"
   ]
  },
  {
   "cell_type": "code",
   "execution_count": 22,
   "id": "1dce689f",
   "metadata": {},
   "outputs": [
    {
     "name": "stderr",
     "output_type": "stream",
     "text": [
      "<ipython-input-22-d72bc75a6b62>:1: SADeprecationWarning: The Engine.table_names() method is deprecated and will be removed in a future release.  Please refer to Inspector.get_table_names(). (deprecated since: 1.4)\n",
      "  engine.table_names()\n"
     ]
    },
    {
     "data": {
      "text/plain": [
       "['imdb_movies', 'IMDB_movies', 'books']"
      ]
     },
     "execution_count": 22,
     "metadata": {},
     "output_type": "execute_result"
    }
   ],
   "source": [
    "engine.table_names()"
   ]
  },
  {
   "cell_type": "code",
   "execution_count": 23,
   "id": "1750b6b8",
   "metadata": {},
   "outputs": [],
   "source": [
    "###Load DataFrames into database\n",
    "#Through engine connection, load the dataframe into database"
   ]
  },
  {
   "cell_type": "code",
   "execution_count": 24,
   "id": "1e083eff",
   "metadata": {},
   "outputs": [],
   "source": [
    "movies_df.to_sql(name=\"IMDB_movies\", con=engine, if_exists=\"replace\", index=True)\n",
    "books_df.to_sql(name=\"books\", con=engine, if_exists= \"replace\", index=True)"
   ]
  },
  {
   "cell_type": "code",
   "execution_count": null,
   "id": "b32e2d8f",
   "metadata": {},
   "outputs": [],
   "source": []
  }
 ],
 "metadata": {
  "kernelspec": {
   "display_name": "Python 3",
   "language": "python",
   "name": "python3"
  },
  "language_info": {
   "codemirror_mode": {
    "name": "ipython",
    "version": 3
   },
   "file_extension": ".py",
   "mimetype": "text/x-python",
   "name": "python",
   "nbconvert_exporter": "python",
   "pygments_lexer": "ipython3",
   "version": "3.8.8"
  }
 },
 "nbformat": 4,
 "nbformat_minor": 5
}
